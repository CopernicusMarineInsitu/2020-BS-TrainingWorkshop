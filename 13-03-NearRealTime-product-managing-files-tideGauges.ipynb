{
 "cells": [
  {
   "cell_type": "markdown",
   "metadata": {},
   "source": [
    "![header](https://i.imgur.com/I4ake6d.jpg)"
   ]
  },
  {
   "cell_type": "markdown",
   "metadata": {},
   "source": [
    "# IN SITU BLACK SEA TRAINING\n",
    "\n",
    "<div style=\"text-align: right\"><i> 13-05-Part-three-out-of-five </i></div>"
   ]
  },
  {
   "cell_type": "markdown",
   "metadata": {},
   "source": [
    "***\n",
    "# BS `NRT` product/dataset: managing files (tideGauges)"
   ]
  },
  {
   "cell_type": "markdown",
   "metadata": {},
   "source": [
    "***\n",
    "**General Note 1**: Execute each cell through the <button class=\"btn btn-default btn-xs\"><i class=\"icon-play fa fa-play\"></i></button> button from the top MENU (or keyboard shortcut `Shift` + `Enter`).<br>\n",
    "<br>\n",
    "**General Note 2**: If, for any reason, the kernel is not working anymore, in the top MENU, click on the <button class=\"btn btn-default btn-xs\"><i class=\"fa fa-repeat icon-repeat\"></i></button> button. Then, in the top MENU, click on \"Cell\" and select \"Run All Above Selected Cell\".<br>\n",
    "***"
   ]
  },
  {
   "cell_type": "markdown",
   "metadata": {},
   "source": [
    "<h1>Table of Contents<span class=\"tocSkip\"></h1>\n",
    "<div class=\"toc\">\n",
    "    <ul class=\"toc-item\">\n",
    "        <li><span><a href=\"#1.-Introduction\" data-toc-modified-id=\"1.-Introduction\">1. Introduction</a></span></li>\n",
    "        <li>\n",
    "            <span><a href=\"#2.-Setup\" data-toc-modified-id=\"2.-Setup\">2. Setup</a></span>\n",
    "            <ul>\n",
    "                <li><span><a href=\"#2.1.-Python-packages\" data-toc-modified-id=\"2.1.-Python-packages\">2.1. Python packages</a></span></li>\n",
    "            </ul>\n",
    "        </li>\n",
    "        <li><span><a href=\"#3.-Tide-Gauges-(TG)-data\" data-toc-modified-id=\"3.-Tide-Gauges-(TG)-data\">3. Tide Gauges (TG) data</a></span>\n",
    "            <ul>\n",
    "                <li><span><a href=\"#3.1.-Reading-file\" data-toc-modified-id=\"3.1.-Reading-file\">3.1. Reading file</a></span></li>\n",
    "                <li><span><a href=\"#3.2.-Subsetting-Operations\" data-toc-modified-id=\"3.2.-Subsetting-Operations\">3.2. Subsetting Operations</a></span>\n",
    "                <li><span><a href=\"#3.3.-Sampling-Operations\" data-toc-modified-id=\"3.3.-Sampling-Operations\">3.3. Sampling Operations</a></span>\n",
    "                    <ul>\n",
    "                        <li><span><a href=\"#3.3.1.-Selecting-Good-data-(QC-flags)\" data-toc-modified-id=\"3.3.1.-Selecting-Good-data-(QC-flags)\">3.3.1. Selecting Good data (QC flags)</a></span></li>\n",
    "                        <li><span><a href=\"#3.3.2.-Upsampling/Downsampling\" data-toc-modified-id=\"3.3.2.-Upsampling/Downsampling\">3.3.2. Upsampling/Downsampling</a></span></li>\n",
    "                    </ul>\n",
    "                </li>\n",
    "        <li><span><a href=\"#3.4.-Exporting-data-to-csv\" data-toc-modified-id=\"3.4.-Exporting-data-to-csv\">3.4. Exporting data to csv</a></span></li>\n",
    "            </ul>\n",
    "        </li>\n",
    "        <li><span><a href=\"#4.-Wrap-up\" data-toc-modified-id=\"4.-Wrap-up\">4. Wrap-up</a></span></li>\n",
    "    </ul>\n",
    "</div>"
   ]
  },
  {
   "cell_type": "markdown",
   "metadata": {},
   "source": [
    "***"
   ]
  },
  {
   "cell_type": "markdown",
   "metadata": {},
   "source": [
    "## 1. Introduction\n",
    "\n",
    "According to the [13-01-NearRealTtime-product-collections-overview.ipynb](13-01-NearRealTtime-product-collections-overview.ipynb) one of the data source types available are the Tide Gauges. Please use the notebook [13-02-NearRealTtime-product-subsetting-download](13-02-NearRealTtime-product-subsetting-download.ipynb) to download some files from Tide Gauges ('TG' data type) and let's check its data. If you wanna skip the downloading part you can use the netCDF files available at the `/data/files/TG` folder instead.  "
   ]
  },
  {
   "cell_type": "markdown",
   "metadata": {},
   "source": [
    "## 2. Setup"
   ]
  },
  {
   "cell_type": "markdown",
   "metadata": {},
   "source": [
    "### 2.1. Python packages"
   ]
  },
  {
   "cell_type": "markdown",
   "metadata": {},
   "source": [
    "For the notebook to properly run we need to first load the next packages available from the Jupyter Notebook Ecosystem. Please run the `next cell`:"
   ]
  },
  {
   "cell_type": "code",
   "execution_count": 1,
   "metadata": {},
   "outputs": [],
   "source": [
    "import warnings\n",
    "warnings.filterwarnings(\"ignore\")\n",
    "\n",
    "import IPython\n",
    "import datetime\n",
    "import pandas as pd\n",
    "import os\n",
    "import xarray\n",
    "import matplotlib.pyplot as plt\n",
    "import folium\n",
    "%matplotlib inline"
   ]
  },
  {
   "cell_type": "markdown",
   "metadata": {},
   "source": [
    "<div class=\"alert alert-block alert-warning\">\n",
    "<b>WARNING</b>\n",
    "    \n",
    "***  \n",
    "If any of them raises any error it means you need to install the module first. For doing so please:\n",
    "1. Open a new cell in the notebook\n",
    "2. Run <i>`!conda install packageName --yes`</i> or <i>`!conda install -c conda-forge packageName --yes`</i> or <i>`!pip install packageName`</i>\n",
    "3. Import again!\n",
    "<br><br>\n",
    "Example: <i>how-to-solve import error for json2html module </i>\n",
    "\n",
    "![region.png](img/errorImporting.gif)\n",
    "</div>"
   ]
  },
  {
   "cell_type": "markdown",
   "metadata": {},
   "source": [
    "## 3. Tide Gauges (TG) data"
   ]
  },
  {
   "cell_type": "markdown",
   "metadata": {},
   "source": [
    "Tide Gauges are fixed platforms measuring Sea Level over time.<br>\n",
    "Let's see the data of one of the available Tide Gauges in the BS. "
   ]
  },
  {
   "cell_type": "markdown",
   "metadata": {},
   "source": [
    "### 3.1. Reading file"
   ]
  },
  {
   "cell_type": "markdown",
   "metadata": {},
   "source": [
    "`Run the next cell` to see the tide gauges files already available in the `/data/files/TG` folder:"
   ]
  },
  {
   "cell_type": "code",
   "execution_count": 2,
   "metadata": {},
   "outputs": [
    {
     "data": {
      "text/plain": [
       "['BS_TS_TG_Constanta.nc',\n",
       " 'BS_TS_TG_Varna.nc',\n",
       " 'BS_TS_TG_Sinop.nc',\n",
       " 'BS_TS_TG_Mangalia.nc',\n",
       " 'BS_TS_TG_Cazino-Mamaia.nc',\n",
       " 'BS_TS_TG_Constanta2.nc']"
      ]
     },
     "execution_count": 2,
     "metadata": {},
     "output_type": "execute_result"
    }
   ],
   "source": [
    "dir_TG = os.path.join(os.getcwd(),'data','files','TG') \n",
    "os.listdir(dir_TG)"
   ]
  },
  {
   "cell_type": "markdown",
   "metadata": {},
   "source": [
    "`Set one` of the above available `file name` and `run the next cells`:"
   ]
  },
  {
   "cell_type": "code",
   "execution_count": 3,
   "metadata": {},
   "outputs": [],
   "source": [
    "file = 'BS_TS_TG_Varna.nc'\n",
    "path = os.path.join(os.getcwd(), 'data','files','TG', file)"
   ]
  },
  {
   "cell_type": "code",
   "execution_count": 4,
   "metadata": {
    "scrolled": true
   },
   "outputs": [
    {
     "data": {
      "text/html": [
       "<div><svg style=\"position: absolute; width: 0; height: 0; overflow: hidden\">\n",
       "<defs>\n",
       "<symbol id=\"icon-database\" viewBox=\"0 0 32 32\">\n",
       "<path d=\"M16 0c-8.837 0-16 2.239-16 5v4c0 2.761 7.163 5 16 5s16-2.239 16-5v-4c0-2.761-7.163-5-16-5z\"></path>\n",
       "<path d=\"M16 17c-8.837 0-16-2.239-16-5v6c0 2.761 7.163 5 16 5s16-2.239 16-5v-6c0 2.761-7.163 5-16 5z\"></path>\n",
       "<path d=\"M16 26c-8.837 0-16-2.239-16-5v6c0 2.761 7.163 5 16 5s16-2.239 16-5v-6c0 2.761-7.163 5-16 5z\"></path>\n",
       "</symbol>\n",
       "<symbol id=\"icon-file-text2\" viewBox=\"0 0 32 32\">\n",
       "<path d=\"M28.681 7.159c-0.694-0.947-1.662-2.053-2.724-3.116s-2.169-2.030-3.116-2.724c-1.612-1.182-2.393-1.319-2.841-1.319h-15.5c-1.378 0-2.5 1.121-2.5 2.5v27c0 1.378 1.122 2.5 2.5 2.5h23c1.378 0 2.5-1.122 2.5-2.5v-19.5c0-0.448-0.137-1.23-1.319-2.841zM24.543 5.457c0.959 0.959 1.712 1.825 2.268 2.543h-4.811v-4.811c0.718 0.556 1.584 1.309 2.543 2.268zM28 29.5c0 0.271-0.229 0.5-0.5 0.5h-23c-0.271 0-0.5-0.229-0.5-0.5v-27c0-0.271 0.229-0.5 0.5-0.5 0 0 15.499-0 15.5 0v7c0 0.552 0.448 1 1 1h7v19.5z\"></path>\n",
       "<path d=\"M23 26h-14c-0.552 0-1-0.448-1-1s0.448-1 1-1h14c0.552 0 1 0.448 1 1s-0.448 1-1 1z\"></path>\n",
       "<path d=\"M23 22h-14c-0.552 0-1-0.448-1-1s0.448-1 1-1h14c0.552 0 1 0.448 1 1s-0.448 1-1 1z\"></path>\n",
       "<path d=\"M23 18h-14c-0.552 0-1-0.448-1-1s0.448-1 1-1h14c0.552 0 1 0.448 1 1s-0.448 1-1 1z\"></path>\n",
       "</symbol>\n",
       "</defs>\n",
       "</svg>\n",
       "<style>/* CSS stylesheet for displaying xarray objects in jupyterlab.\n",
       " *\n",
       " */\n",
       "\n",
       ":root {\n",
       "  --xr-font-color0: var(--jp-content-font-color0, rgba(0, 0, 0, 1));\n",
       "  --xr-font-color2: var(--jp-content-font-color2, rgba(0, 0, 0, 0.54));\n",
       "  --xr-font-color3: var(--jp-content-font-color3, rgba(0, 0, 0, 0.38));\n",
       "  --xr-border-color: var(--jp-border-color2, #e0e0e0);\n",
       "  --xr-disabled-color: var(--jp-layout-color3, #bdbdbd);\n",
       "  --xr-background-color: var(--jp-layout-color0, white);\n",
       "  --xr-background-color-row-even: var(--jp-layout-color1, white);\n",
       "  --xr-background-color-row-odd: var(--jp-layout-color2, #eeeeee);\n",
       "}\n",
       "\n",
       "html[theme=dark],\n",
       "body.vscode-dark {\n",
       "  --xr-font-color0: rgba(255, 255, 255, 1);\n",
       "  --xr-font-color2: rgba(255, 255, 255, 0.54);\n",
       "  --xr-font-color3: rgba(255, 255, 255, 0.38);\n",
       "  --xr-border-color: #1F1F1F;\n",
       "  --xr-disabled-color: #515151;\n",
       "  --xr-background-color: #111111;\n",
       "  --xr-background-color-row-even: #111111;\n",
       "  --xr-background-color-row-odd: #313131;\n",
       "}\n",
       "\n",
       ".xr-wrap {\n",
       "  display: block;\n",
       "  min-width: 300px;\n",
       "  max-width: 700px;\n",
       "}\n",
       "\n",
       ".xr-text-repr-fallback {\n",
       "  /* fallback to plain text repr when CSS is not injected (untrusted notebook) */\n",
       "  display: none;\n",
       "}\n",
       "\n",
       ".xr-header {\n",
       "  padding-top: 6px;\n",
       "  padding-bottom: 6px;\n",
       "  margin-bottom: 4px;\n",
       "  border-bottom: solid 1px var(--xr-border-color);\n",
       "}\n",
       "\n",
       ".xr-header > div,\n",
       ".xr-header > ul {\n",
       "  display: inline;\n",
       "  margin-top: 0;\n",
       "  margin-bottom: 0;\n",
       "}\n",
       "\n",
       ".xr-obj-type,\n",
       ".xr-array-name {\n",
       "  margin-left: 2px;\n",
       "  margin-right: 10px;\n",
       "}\n",
       "\n",
       ".xr-obj-type {\n",
       "  color: var(--xr-font-color2);\n",
       "}\n",
       "\n",
       ".xr-sections {\n",
       "  padding-left: 0 !important;\n",
       "  display: grid;\n",
       "  grid-template-columns: 150px auto auto 1fr 20px 20px;\n",
       "}\n",
       "\n",
       ".xr-section-item {\n",
       "  display: contents;\n",
       "}\n",
       "\n",
       ".xr-section-item input {\n",
       "  display: none;\n",
       "}\n",
       "\n",
       ".xr-section-item input + label {\n",
       "  color: var(--xr-disabled-color);\n",
       "}\n",
       "\n",
       ".xr-section-item input:enabled + label {\n",
       "  cursor: pointer;\n",
       "  color: var(--xr-font-color2);\n",
       "}\n",
       "\n",
       ".xr-section-item input:enabled + label:hover {\n",
       "  color: var(--xr-font-color0);\n",
       "}\n",
       "\n",
       ".xr-section-summary {\n",
       "  grid-column: 1;\n",
       "  color: var(--xr-font-color2);\n",
       "  font-weight: 500;\n",
       "}\n",
       "\n",
       ".xr-section-summary > span {\n",
       "  display: inline-block;\n",
       "  padding-left: 0.5em;\n",
       "}\n",
       "\n",
       ".xr-section-summary-in:disabled + label {\n",
       "  color: var(--xr-font-color2);\n",
       "}\n",
       "\n",
       ".xr-section-summary-in + label:before {\n",
       "  display: inline-block;\n",
       "  content: '►';\n",
       "  font-size: 11px;\n",
       "  width: 15px;\n",
       "  text-align: center;\n",
       "}\n",
       "\n",
       ".xr-section-summary-in:disabled + label:before {\n",
       "  color: var(--xr-disabled-color);\n",
       "}\n",
       "\n",
       ".xr-section-summary-in:checked + label:before {\n",
       "  content: '▼';\n",
       "}\n",
       "\n",
       ".xr-section-summary-in:checked + label > span {\n",
       "  display: none;\n",
       "}\n",
       "\n",
       ".xr-section-summary,\n",
       ".xr-section-inline-details {\n",
       "  padding-top: 4px;\n",
       "  padding-bottom: 4px;\n",
       "}\n",
       "\n",
       ".xr-section-inline-details {\n",
       "  grid-column: 2 / -1;\n",
       "}\n",
       "\n",
       ".xr-section-details {\n",
       "  display: none;\n",
       "  grid-column: 1 / -1;\n",
       "  margin-bottom: 5px;\n",
       "}\n",
       "\n",
       ".xr-section-summary-in:checked ~ .xr-section-details {\n",
       "  display: contents;\n",
       "}\n",
       "\n",
       ".xr-array-wrap {\n",
       "  grid-column: 1 / -1;\n",
       "  display: grid;\n",
       "  grid-template-columns: 20px auto;\n",
       "}\n",
       "\n",
       ".xr-array-wrap > label {\n",
       "  grid-column: 1;\n",
       "  vertical-align: top;\n",
       "}\n",
       "\n",
       ".xr-preview {\n",
       "  color: var(--xr-font-color3);\n",
       "}\n",
       "\n",
       ".xr-array-preview,\n",
       ".xr-array-data {\n",
       "  padding: 0 5px !important;\n",
       "  grid-column: 2;\n",
       "}\n",
       "\n",
       ".xr-array-data,\n",
       ".xr-array-in:checked ~ .xr-array-preview {\n",
       "  display: none;\n",
       "}\n",
       "\n",
       ".xr-array-in:checked ~ .xr-array-data,\n",
       ".xr-array-preview {\n",
       "  display: inline-block;\n",
       "}\n",
       "\n",
       ".xr-dim-list {\n",
       "  display: inline-block !important;\n",
       "  list-style: none;\n",
       "  padding: 0 !important;\n",
       "  margin: 0;\n",
       "}\n",
       "\n",
       ".xr-dim-list li {\n",
       "  display: inline-block;\n",
       "  padding: 0;\n",
       "  margin: 0;\n",
       "}\n",
       "\n",
       ".xr-dim-list:before {\n",
       "  content: '(';\n",
       "}\n",
       "\n",
       ".xr-dim-list:after {\n",
       "  content: ')';\n",
       "}\n",
       "\n",
       ".xr-dim-list li:not(:last-child):after {\n",
       "  content: ',';\n",
       "  padding-right: 5px;\n",
       "}\n",
       "\n",
       ".xr-has-index {\n",
       "  font-weight: bold;\n",
       "}\n",
       "\n",
       ".xr-var-list,\n",
       ".xr-var-item {\n",
       "  display: contents;\n",
       "}\n",
       "\n",
       ".xr-var-item > div,\n",
       ".xr-var-item label,\n",
       ".xr-var-item > .xr-var-name span {\n",
       "  background-color: var(--xr-background-color-row-even);\n",
       "  margin-bottom: 0;\n",
       "}\n",
       "\n",
       ".xr-var-item > .xr-var-name:hover span {\n",
       "  padding-right: 5px;\n",
       "}\n",
       "\n",
       ".xr-var-list > li:nth-child(odd) > div,\n",
       ".xr-var-list > li:nth-child(odd) > label,\n",
       ".xr-var-list > li:nth-child(odd) > .xr-var-name span {\n",
       "  background-color: var(--xr-background-color-row-odd);\n",
       "}\n",
       "\n",
       ".xr-var-name {\n",
       "  grid-column: 1;\n",
       "}\n",
       "\n",
       ".xr-var-dims {\n",
       "  grid-column: 2;\n",
       "}\n",
       "\n",
       ".xr-var-dtype {\n",
       "  grid-column: 3;\n",
       "  text-align: right;\n",
       "  color: var(--xr-font-color2);\n",
       "}\n",
       "\n",
       ".xr-var-preview {\n",
       "  grid-column: 4;\n",
       "}\n",
       "\n",
       ".xr-var-name,\n",
       ".xr-var-dims,\n",
       ".xr-var-dtype,\n",
       ".xr-preview,\n",
       ".xr-attrs dt {\n",
       "  white-space: nowrap;\n",
       "  overflow: hidden;\n",
       "  text-overflow: ellipsis;\n",
       "  padding-right: 10px;\n",
       "}\n",
       "\n",
       ".xr-var-name:hover,\n",
       ".xr-var-dims:hover,\n",
       ".xr-var-dtype:hover,\n",
       ".xr-attrs dt:hover {\n",
       "  overflow: visible;\n",
       "  width: auto;\n",
       "  z-index: 1;\n",
       "}\n",
       "\n",
       ".xr-var-attrs,\n",
       ".xr-var-data {\n",
       "  display: none;\n",
       "  background-color: var(--xr-background-color) !important;\n",
       "  padding-bottom: 5px !important;\n",
       "}\n",
       "\n",
       ".xr-var-attrs-in:checked ~ .xr-var-attrs,\n",
       ".xr-var-data-in:checked ~ .xr-var-data {\n",
       "  display: block;\n",
       "}\n",
       "\n",
       ".xr-var-data > table {\n",
       "  float: right;\n",
       "}\n",
       "\n",
       ".xr-var-name span,\n",
       ".xr-var-data,\n",
       ".xr-attrs {\n",
       "  padding-left: 25px !important;\n",
       "}\n",
       "\n",
       ".xr-attrs,\n",
       ".xr-var-attrs,\n",
       ".xr-var-data {\n",
       "  grid-column: 1 / -1;\n",
       "}\n",
       "\n",
       "dl.xr-attrs {\n",
       "  padding: 0;\n",
       "  margin: 0;\n",
       "  display: grid;\n",
       "  grid-template-columns: 125px auto;\n",
       "}\n",
       "\n",
       ".xr-attrs dt,\n",
       ".xr-attrs dd {\n",
       "  padding: 0;\n",
       "  margin: 0;\n",
       "  float: left;\n",
       "  padding-right: 10px;\n",
       "  width: auto;\n",
       "}\n",
       "\n",
       ".xr-attrs dt {\n",
       "  font-weight: normal;\n",
       "  grid-column: 1;\n",
       "}\n",
       "\n",
       ".xr-attrs dt:hover span {\n",
       "  display: inline-block;\n",
       "  background: var(--xr-background-color);\n",
       "  padding-right: 10px;\n",
       "}\n",
       "\n",
       ".xr-attrs dd {\n",
       "  grid-column: 2;\n",
       "  white-space: pre-wrap;\n",
       "  word-break: break-all;\n",
       "}\n",
       "\n",
       ".xr-icon-database,\n",
       ".xr-icon-file-text2 {\n",
       "  display: inline-block;\n",
       "  vertical-align: middle;\n",
       "  width: 1em;\n",
       "  height: 1.5em !important;\n",
       "  stroke-width: 0;\n",
       "  stroke: currentColor;\n",
       "  fill: currentColor;\n",
       "}\n",
       "</style><pre class='xr-text-repr-fallback'>&lt;xarray.Dataset&gt;\n",
       "Dimensions:      (DEPTH: 1, LATITUDE: 1707839, LONGITUDE: 1707839, POSITION: 1707839, TIME: 1707839)\n",
       "Coordinates:\n",
       "  * TIME         (TIME) datetime64[ns] 2017-01-01 ... 2020-03-31T23:57:59.999...\n",
       "  * LATITUDE     (LATITUDE) float32 43.19 43.19 43.19 ... 43.19 43.19 43.19\n",
       "  * LONGITUDE    (LONGITUDE) float32 27.91 27.91 27.91 ... 27.91 27.91 27.91\n",
       "Dimensions without coordinates: DEPTH, POSITION\n",
       "Data variables:\n",
       "    TIME_QC      (TIME) float32 ...\n",
       "    POSITION_QC  (POSITION) float32 ...\n",
       "    DEPH         (TIME, DEPTH) float32 ...\n",
       "    DEPH_QC      (TIME, DEPTH) float32 ...\n",
       "    DEPH_DM      (TIME, DEPTH) object ...\n",
       "    SLEV         (TIME, DEPTH) float64 ...\n",
       "    SLEV_QC      (TIME, DEPTH) float32 ...\n",
       "    SLEV_DM      (TIME, DEPTH) object ...\n",
       "Attributes:\n",
       "    data_type:                   OceanSITES time-series data\n",
       "    format_version:              1.2\n",
       "    date_update:                 2020-04-23T06:32:41Z\n",
       "    platform_code:               Varna\n",
       "    institution:                 Institute of Oceanology  Bulgarian Academy o...\n",
       "    institution_edmo_code:       1843\n",
       "    site_code:                    \n",
       "    wmo_platform_code:            \n",
       "    source:                      coastal structure\n",
       "    history:                     2020-04-23T06:32:41Z: Creation\n",
       "    data_mode:                   R\n",
       "    quality_control_indicator:   6\n",
       "    quality_index:               A\n",
       "    references:                  http://www.oceansites.org, http://marine.cop...\n",
       "    comment:                      \n",
       "    Conventions:                 CF-1.6 OceanSITES-Manual-1.2 Copernicus-InSi...\n",
       "    netcdf_version:              netCDF-4 classic model\n",
       "    title:                       Black Sea - NRT in situ Observations\n",
       "    summary:                      \n",
       "    naming_authority:            OceanSITES\n",
       "    id:                          BS_TS_TG_Varna\n",
       "    cdm_data_type:               Time-series\n",
       "    area:                        Black Sea\n",
       "    geospatial_lat_min:          43.192\n",
       "    geospatial_lat_max:          43.192\n",
       "    geospatial_lon_min:          27.911\n",
       "    geospatial_lon_max:          27.911\n",
       "    geospatial_vertical_min:     0\n",
       "    geospatial_vertical_max:     0\n",
       "    time_coverage_start:         2017-01-01T00:00:00Z\n",
       "    time_coverage_end:           2020-03-31T23:58:00Z\n",
       "    institution_references:      http://io-bas.bg\n",
       "    contact:                     cmems-service@io-bas.bg\n",
       "    author:                       \n",
       "    data_assembly_center:        IOBAS\n",
       "    pi_name:                      \n",
       "    distribution_statement:      These data follow Copernicus standards; they...\n",
       "    citation:                    These data were collected and made freely av...\n",
       "    update_interval:             daily\n",
       "    qc_manual:                   OceanSITES User\\&#x27;s Manual v1.2\n",
       "    last_latitude_observation:   43.192\n",
       "    last_longitude_observation:  27.911\n",
       "    last_date_observation:       2020-03-31T23:58:00Z</pre><div class='xr-wrap' hidden><div class='xr-header'><div class='xr-obj-type'>xarray.Dataset</div></div><ul class='xr-sections'><li class='xr-section-item'><input id='section-aa271272-0f41-4333-ac0d-34380bc7abff' class='xr-section-summary-in' type='checkbox' disabled ><label for='section-aa271272-0f41-4333-ac0d-34380bc7abff' class='xr-section-summary'  title='Expand/collapse section'>Dimensions:</label><div class='xr-section-inline-details'><ul class='xr-dim-list'><li><span>DEPTH</span>: 1</li><li><span class='xr-has-index'>LATITUDE</span>: 1707839</li><li><span class='xr-has-index'>LONGITUDE</span>: 1707839</li><li><span>POSITION</span>: 1707839</li><li><span class='xr-has-index'>TIME</span>: 1707839</li></ul></div><div class='xr-section-details'></div></li><li class='xr-section-item'><input id='section-26dad39e-6e3d-4a07-b9a4-272c1351c580' class='xr-section-summary-in' type='checkbox'  checked><label for='section-26dad39e-6e3d-4a07-b9a4-272c1351c580' class='xr-section-summary' >Coordinates: <span>(3)</span></label><div class='xr-section-inline-details'></div><div class='xr-section-details'><ul class='xr-var-list'><li class='xr-var-item'><div class='xr-var-name'><span class='xr-has-index'>TIME</span></div><div class='xr-var-dims'>(TIME)</div><div class='xr-var-dtype'>datetime64[ns]</div><div class='xr-var-preview xr-preview'>2017-01-01 ... 2020-03-31T23:57:...</div><input id='attrs-2b550142-a262-4ab4-99e1-55fa66db986a' class='xr-var-attrs-in' type='checkbox' ><label for='attrs-2b550142-a262-4ab4-99e1-55fa66db986a' title='Show/Hide attributes'><svg class='icon xr-icon-file-text2'><use xlink:href='#icon-file-text2'></use></svg></label><input id='data-c2ab2610-d73f-432d-badc-d5d5eb0eca8f' class='xr-var-data-in' type='checkbox'><label for='data-c2ab2610-d73f-432d-badc-d5d5eb0eca8f' title='Show/Hide data repr'><svg class='icon xr-icon-database'><use xlink:href='#icon-database'></use></svg></label><div class='xr-var-attrs'><dl class='xr-attrs'><dt><span>long_name :</span></dt><dd>Time</dd><dt><span>standard_name :</span></dt><dd>time</dd><dt><span>valid_min :</span></dt><dd>-90000.0</dd><dt><span>valid_max :</span></dt><dd>90000.0</dd><dt><span>QC_indicator :</span></dt><dd>1</dd><dt><span>QC_procedure :</span></dt><dd>1</dd><dt><span>uncertainty :</span></dt><dd> </dd><dt><span>comment :</span></dt><dd> </dd><dt><span>axis :</span></dt><dd>T</dd></dl></div><div class='xr-var-data'><pre>array([&#x27;2017-01-01T00:00:00.000000000&#x27;, &#x27;2017-01-01T00:00:59.999996416&#x27;,\n",
       "       &#x27;2017-01-01T00:02:00.000002816&#x27;, ..., &#x27;2020-03-31T23:56:00.000004352&#x27;,\n",
       "       &#x27;2020-03-31T23:57:00.000000768&#x27;, &#x27;2020-03-31T23:57:59.999997184&#x27;],\n",
       "      dtype=&#x27;datetime64[ns]&#x27;)</pre></div></li><li class='xr-var-item'><div class='xr-var-name'><span class='xr-has-index'>LATITUDE</span></div><div class='xr-var-dims'>(LATITUDE)</div><div class='xr-var-dtype'>float32</div><div class='xr-var-preview xr-preview'>43.19 43.19 43.19 ... 43.19 43.19</div><input id='attrs-f8d31b42-f262-49a8-a250-d102cbe7f232' class='xr-var-attrs-in' type='checkbox' ><label for='attrs-f8d31b42-f262-49a8-a250-d102cbe7f232' title='Show/Hide attributes'><svg class='icon xr-icon-file-text2'><use xlink:href='#icon-file-text2'></use></svg></label><input id='data-1d2ca011-bcbc-4005-bca1-2e495fdefb73' class='xr-var-data-in' type='checkbox'><label for='data-1d2ca011-bcbc-4005-bca1-2e495fdefb73' title='Show/Hide data repr'><svg class='icon xr-icon-database'><use xlink:href='#icon-database'></use></svg></label><div class='xr-var-attrs'><dl class='xr-attrs'><dt><span>long_name :</span></dt><dd>Latitude of each location</dd><dt><span>standard_name :</span></dt><dd>latitude</dd><dt><span>units :</span></dt><dd>degree_north</dd><dt><span>valid_min :</span></dt><dd>-90.0</dd><dt><span>valid_max :</span></dt><dd>90.0</dd><dt><span>QC_indicator :</span></dt><dd>1</dd><dt><span>QC_procedure :</span></dt><dd>1</dd><dt><span>uncertainty :</span></dt><dd> </dd><dt><span>comment :</span></dt><dd> </dd><dt><span>axis :</span></dt><dd>Y</dd></dl></div><div class='xr-var-data'><pre>array([43.192, 43.192, 43.192, ..., 43.192, 43.192, 43.192], dtype=float32)</pre></div></li><li class='xr-var-item'><div class='xr-var-name'><span class='xr-has-index'>LONGITUDE</span></div><div class='xr-var-dims'>(LONGITUDE)</div><div class='xr-var-dtype'>float32</div><div class='xr-var-preview xr-preview'>27.91 27.91 27.91 ... 27.91 27.91</div><input id='attrs-9c54e344-4348-41bf-bf2d-ca0e2aa4bf8e' class='xr-var-attrs-in' type='checkbox' ><label for='attrs-9c54e344-4348-41bf-bf2d-ca0e2aa4bf8e' title='Show/Hide attributes'><svg class='icon xr-icon-file-text2'><use xlink:href='#icon-file-text2'></use></svg></label><input id='data-a9e16636-f08b-4214-91d7-444e8247781d' class='xr-var-data-in' type='checkbox'><label for='data-a9e16636-f08b-4214-91d7-444e8247781d' title='Show/Hide data repr'><svg class='icon xr-icon-database'><use xlink:href='#icon-database'></use></svg></label><div class='xr-var-attrs'><dl class='xr-attrs'><dt><span>long_name :</span></dt><dd>Longitude of each location</dd><dt><span>standard_name :</span></dt><dd>longitude</dd><dt><span>units :</span></dt><dd>degree_east</dd><dt><span>valid_min :</span></dt><dd>-180.0</dd><dt><span>valid_max :</span></dt><dd>180.0</dd><dt><span>QC_indicator :</span></dt><dd>1</dd><dt><span>QC_procedure :</span></dt><dd>1</dd><dt><span>uncertainty :</span></dt><dd> </dd><dt><span>comment :</span></dt><dd> </dd><dt><span>axis :</span></dt><dd>X</dd></dl></div><div class='xr-var-data'><pre>array([27.911, 27.911, 27.911, ..., 27.911, 27.911, 27.911], dtype=float32)</pre></div></li></ul></div></li><li class='xr-section-item'><input id='section-9398ebea-c7f9-4534-b4be-98b72e057216' class='xr-section-summary-in' type='checkbox'  checked><label for='section-9398ebea-c7f9-4534-b4be-98b72e057216' class='xr-section-summary' >Data variables: <span>(8)</span></label><div class='xr-section-inline-details'></div><div class='xr-section-details'><ul class='xr-var-list'><li class='xr-var-item'><div class='xr-var-name'><span>TIME_QC</span></div><div class='xr-var-dims'>(TIME)</div><div class='xr-var-dtype'>float32</div><div class='xr-var-preview xr-preview'>...</div><input id='attrs-0e64ccda-481c-4111-9ece-8fb35c14a5df' class='xr-var-attrs-in' type='checkbox' ><label for='attrs-0e64ccda-481c-4111-9ece-8fb35c14a5df' title='Show/Hide attributes'><svg class='icon xr-icon-file-text2'><use xlink:href='#icon-file-text2'></use></svg></label><input id='data-b98d10b7-5328-42e5-93b9-196a3535c298' class='xr-var-data-in' type='checkbox'><label for='data-b98d10b7-5328-42e5-93b9-196a3535c298' title='Show/Hide data repr'><svg class='icon xr-icon-database'><use xlink:href='#icon-database'></use></svg></label><div class='xr-var-attrs'><dl class='xr-attrs'><dt><span>long_name :</span></dt><dd>quality flag</dd><dt><span>conventions :</span></dt><dd>OceanSITES reference table 2</dd><dt><span>valid_min :</span></dt><dd>0</dd><dt><span>valid_max :</span></dt><dd>9</dd><dt><span>flag_values :</span></dt><dd>[0 1 2 3 4 5 6 7 8 9]</dd><dt><span>flag_meanings :</span></dt><dd>no_qc_performed good_data probably_good_data bad_data_that_are_potentially_correctable bad_data value_changed not_used nominal_value interpolated_value missing_value</dd></dl></div><div class='xr-var-data'><pre>[1707839 values with dtype=float32]</pre></div></li><li class='xr-var-item'><div class='xr-var-name'><span>POSITION_QC</span></div><div class='xr-var-dims'>(POSITION)</div><div class='xr-var-dtype'>float32</div><div class='xr-var-preview xr-preview'>...</div><input id='attrs-bc32f627-3fe2-4957-bc91-84d3be6f94ee' class='xr-var-attrs-in' type='checkbox' ><label for='attrs-bc32f627-3fe2-4957-bc91-84d3be6f94ee' title='Show/Hide attributes'><svg class='icon xr-icon-file-text2'><use xlink:href='#icon-file-text2'></use></svg></label><input id='data-07b8a1c2-e6b0-4f53-8a40-89621e7f6ed4' class='xr-var-data-in' type='checkbox'><label for='data-07b8a1c2-e6b0-4f53-8a40-89621e7f6ed4' title='Show/Hide data repr'><svg class='icon xr-icon-database'><use xlink:href='#icon-database'></use></svg></label><div class='xr-var-attrs'><dl class='xr-attrs'><dt><span>long_name :</span></dt><dd>quality flag</dd><dt><span>conventions :</span></dt><dd>OceanSITES reference table 2</dd><dt><span>valid_min :</span></dt><dd>0</dd><dt><span>valid_max :</span></dt><dd>9</dd><dt><span>flag_values :</span></dt><dd>[0 1 2 3 4 5 6 7 8 9]</dd><dt><span>flag_meanings :</span></dt><dd>no_qc_performed good_data probably_good_data bad_data_that_are_potentially_correctable bad_data value_changed not_used nominal_value interpolated_value missing_value</dd></dl></div><div class='xr-var-data'><pre>[1707839 values with dtype=float32]</pre></div></li><li class='xr-var-item'><div class='xr-var-name'><span>DEPH</span></div><div class='xr-var-dims'>(TIME, DEPTH)</div><div class='xr-var-dtype'>float32</div><div class='xr-var-preview xr-preview'>...</div><input id='attrs-2032179f-ea95-43d8-9dfa-f1a21dacac1a' class='xr-var-attrs-in' type='checkbox' ><label for='attrs-2032179f-ea95-43d8-9dfa-f1a21dacac1a' title='Show/Hide attributes'><svg class='icon xr-icon-file-text2'><use xlink:href='#icon-file-text2'></use></svg></label><input id='data-72df2e63-f376-4d6f-acee-b869826213f7' class='xr-var-data-in' type='checkbox'><label for='data-72df2e63-f376-4d6f-acee-b869826213f7' title='Show/Hide data repr'><svg class='icon xr-icon-database'><use xlink:href='#icon-database'></use></svg></label><div class='xr-var-attrs'><dl class='xr-attrs'><dt><span>long_name :</span></dt><dd>Depth</dd><dt><span>standard_name :</span></dt><dd>depth</dd><dt><span>units :</span></dt><dd>m</dd><dt><span>valid_min :</span></dt><dd>0.0</dd><dt><span>valid_max :</span></dt><dd>12000.0</dd><dt><span>axis :</span></dt><dd>Z</dd><dt><span>positive :</span></dt><dd>down</dd></dl></div><div class='xr-var-data'><pre>[1707839 values with dtype=float32]</pre></div></li><li class='xr-var-item'><div class='xr-var-name'><span>DEPH_QC</span></div><div class='xr-var-dims'>(TIME, DEPTH)</div><div class='xr-var-dtype'>float32</div><div class='xr-var-preview xr-preview'>...</div><input id='attrs-ea54eb05-dcf2-4307-850e-397623d0d4f2' class='xr-var-attrs-in' type='checkbox' ><label for='attrs-ea54eb05-dcf2-4307-850e-397623d0d4f2' title='Show/Hide attributes'><svg class='icon xr-icon-file-text2'><use xlink:href='#icon-file-text2'></use></svg></label><input id='data-e8f9599f-11f5-4b13-a97f-7e80aad916e6' class='xr-var-data-in' type='checkbox'><label for='data-e8f9599f-11f5-4b13-a97f-7e80aad916e6' title='Show/Hide data repr'><svg class='icon xr-icon-database'><use xlink:href='#icon-database'></use></svg></label><div class='xr-var-attrs'><dl class='xr-attrs'><dt><span>long_name :</span></dt><dd>quality flag</dd><dt><span>conventions :</span></dt><dd>OceanSITES reference table 2</dd><dt><span>valid_min :</span></dt><dd>0</dd><dt><span>valid_max :</span></dt><dd>9</dd><dt><span>flag_values :</span></dt><dd>[0 1 2 3 4 5 6 7 8 9]</dd><dt><span>flag_meanings :</span></dt><dd>no_qc_performed good_data probably_good_data bad_data_that_are_potentially_correctable bad_data value_changed not_used nominal_value interpolated_value missing_value</dd></dl></div><div class='xr-var-data'><pre>[1707839 values with dtype=float32]</pre></div></li><li class='xr-var-item'><div class='xr-var-name'><span>DEPH_DM</span></div><div class='xr-var-dims'>(TIME, DEPTH)</div><div class='xr-var-dtype'>object</div><div class='xr-var-preview xr-preview'>...</div><input id='attrs-503082a4-08de-4caa-83c4-7c40b0ca7877' class='xr-var-attrs-in' type='checkbox' ><label for='attrs-503082a4-08de-4caa-83c4-7c40b0ca7877' title='Show/Hide attributes'><svg class='icon xr-icon-file-text2'><use xlink:href='#icon-file-text2'></use></svg></label><input id='data-aed99caf-73f7-4326-9e30-09286549d0d7' class='xr-var-data-in' type='checkbox'><label for='data-aed99caf-73f7-4326-9e30-09286549d0d7' title='Show/Hide data repr'><svg class='icon xr-icon-database'><use xlink:href='#icon-database'></use></svg></label><div class='xr-var-attrs'><dl class='xr-attrs'><dt><span>long_name :</span></dt><dd>method of data processing</dd><dt><span>conventions :</span></dt><dd>OceanSITES reference table 5</dd><dt><span>flag_values :</span></dt><dd>R, P, D, M</dd><dt><span>flag_meanings :</span></dt><dd>real-time provisional delayed-mode mixed</dd></dl></div><div class='xr-var-data'><pre>[1707839 values with dtype=object]</pre></div></li><li class='xr-var-item'><div class='xr-var-name'><span>SLEV</span></div><div class='xr-var-dims'>(TIME, DEPTH)</div><div class='xr-var-dtype'>float64</div><div class='xr-var-preview xr-preview'>...</div><input id='attrs-a86a8012-9c0a-4fef-9d9d-7fc49eddd15d' class='xr-var-attrs-in' type='checkbox' ><label for='attrs-a86a8012-9c0a-4fef-9d9d-7fc49eddd15d' title='Show/Hide attributes'><svg class='icon xr-icon-file-text2'><use xlink:href='#icon-file-text2'></use></svg></label><input id='data-9e6c58e1-5c54-4985-ab4f-6c5251ddcb34' class='xr-var-data-in' type='checkbox'><label for='data-9e6c58e1-5c54-4985-ab4f-6c5251ddcb34' title='Show/Hide data repr'><svg class='icon xr-icon-database'><use xlink:href='#icon-database'></use></svg></label><div class='xr-var-attrs'><dl class='xr-attrs'><dt><span>long_name :</span></dt><dd>Water surface height above a specific datum</dd><dt><span>standard_name :</span></dt><dd>water_surface_height_above_reference_datum</dd><dt><span>units :</span></dt><dd>m</dd><dt><span>time_sampling :</span></dt><dd>1.0</dd><dt><span>sea_level_datum :</span></dt><dd>geodetic datum</dd><dt><span>processing_method :</span></dt><dd>instantaneous values</dd></dl></div><div class='xr-var-data'><pre>[1707839 values with dtype=float64]</pre></div></li><li class='xr-var-item'><div class='xr-var-name'><span>SLEV_QC</span></div><div class='xr-var-dims'>(TIME, DEPTH)</div><div class='xr-var-dtype'>float32</div><div class='xr-var-preview xr-preview'>...</div><input id='attrs-1a414869-2875-4d8f-9f1e-daae1a1ae576' class='xr-var-attrs-in' type='checkbox' ><label for='attrs-1a414869-2875-4d8f-9f1e-daae1a1ae576' title='Show/Hide attributes'><svg class='icon xr-icon-file-text2'><use xlink:href='#icon-file-text2'></use></svg></label><input id='data-7b858c26-3582-479d-96d7-12de5350fed7' class='xr-var-data-in' type='checkbox'><label for='data-7b858c26-3582-479d-96d7-12de5350fed7' title='Show/Hide data repr'><svg class='icon xr-icon-database'><use xlink:href='#icon-database'></use></svg></label><div class='xr-var-attrs'><dl class='xr-attrs'><dt><span>long_name :</span></dt><dd>quality flag</dd><dt><span>conventions :</span></dt><dd>OceanSITES reference table 2</dd><dt><span>valid_min :</span></dt><dd>0</dd><dt><span>valid_max :</span></dt><dd>9</dd><dt><span>flag_values :</span></dt><dd>[0 1 2 3 4 5 6 7 8 9]</dd><dt><span>flag_meanings :</span></dt><dd>no_qc_performed good_data probably_good_data bad_data_that_are_potentially_correctable bad_data value_changed not_used nominal_value interpolated_value missing_value</dd></dl></div><div class='xr-var-data'><pre>[1707839 values with dtype=float32]</pre></div></li><li class='xr-var-item'><div class='xr-var-name'><span>SLEV_DM</span></div><div class='xr-var-dims'>(TIME, DEPTH)</div><div class='xr-var-dtype'>object</div><div class='xr-var-preview xr-preview'>...</div><input id='attrs-0c2cb35e-a4e1-4a0a-87bb-75e3b90ed142' class='xr-var-attrs-in' type='checkbox' ><label for='attrs-0c2cb35e-a4e1-4a0a-87bb-75e3b90ed142' title='Show/Hide attributes'><svg class='icon xr-icon-file-text2'><use xlink:href='#icon-file-text2'></use></svg></label><input id='data-403e2398-7e0d-482f-a7d3-8699cf6b3ac4' class='xr-var-data-in' type='checkbox'><label for='data-403e2398-7e0d-482f-a7d3-8699cf6b3ac4' title='Show/Hide data repr'><svg class='icon xr-icon-database'><use xlink:href='#icon-database'></use></svg></label><div class='xr-var-attrs'><dl class='xr-attrs'><dt><span>long_name :</span></dt><dd>method of data processing</dd><dt><span>conventions :</span></dt><dd>OceanSITES reference table 5</dd><dt><span>flag_values :</span></dt><dd>R, P, D, M</dd><dt><span>flag_meanings :</span></dt><dd>real-time provisional delayed-mode mixed</dd></dl></div><div class='xr-var-data'><pre>[1707839 values with dtype=object]</pre></div></li></ul></div></li><li class='xr-section-item'><input id='section-fb32e047-cfc1-4765-8a68-31c0c30aa9c8' class='xr-section-summary-in' type='checkbox'  ><label for='section-fb32e047-cfc1-4765-8a68-31c0c30aa9c8' class='xr-section-summary' >Attributes: <span>(43)</span></label><div class='xr-section-inline-details'></div><div class='xr-section-details'><dl class='xr-attrs'><dt><span>data_type :</span></dt><dd>OceanSITES time-series data</dd><dt><span>format_version :</span></dt><dd>1.2</dd><dt><span>date_update :</span></dt><dd>2020-04-23T06:32:41Z</dd><dt><span>platform_code :</span></dt><dd>Varna</dd><dt><span>institution :</span></dt><dd>Institute of Oceanology  Bulgarian Academy of Sciences (IO-BAS)</dd><dt><span>institution_edmo_code :</span></dt><dd>1843</dd><dt><span>site_code :</span></dt><dd> </dd><dt><span>wmo_platform_code :</span></dt><dd> </dd><dt><span>source :</span></dt><dd>coastal structure</dd><dt><span>history :</span></dt><dd>2020-04-23T06:32:41Z: Creation</dd><dt><span>data_mode :</span></dt><dd>R</dd><dt><span>quality_control_indicator :</span></dt><dd>6</dd><dt><span>quality_index :</span></dt><dd>A</dd><dt><span>references :</span></dt><dd>http://www.oceansites.org, http://marine.copernicus.eu</dd><dt><span>comment :</span></dt><dd> </dd><dt><span>Conventions :</span></dt><dd>CF-1.6 OceanSITES-Manual-1.2 Copernicus-InSituTAC-SRD-1.4 Copernicus-InSituTAC-ParametersList-3.1.0</dd><dt><span>netcdf_version :</span></dt><dd>netCDF-4 classic model</dd><dt><span>title :</span></dt><dd>Black Sea - NRT in situ Observations</dd><dt><span>summary :</span></dt><dd> </dd><dt><span>naming_authority :</span></dt><dd>OceanSITES</dd><dt><span>id :</span></dt><dd>BS_TS_TG_Varna</dd><dt><span>cdm_data_type :</span></dt><dd>Time-series</dd><dt><span>area :</span></dt><dd>Black Sea</dd><dt><span>geospatial_lat_min :</span></dt><dd>43.192</dd><dt><span>geospatial_lat_max :</span></dt><dd>43.192</dd><dt><span>geospatial_lon_min :</span></dt><dd>27.911</dd><dt><span>geospatial_lon_max :</span></dt><dd>27.911</dd><dt><span>geospatial_vertical_min :</span></dt><dd>0</dd><dt><span>geospatial_vertical_max :</span></dt><dd>0</dd><dt><span>time_coverage_start :</span></dt><dd>2017-01-01T00:00:00Z</dd><dt><span>time_coverage_end :</span></dt><dd>2020-03-31T23:58:00Z</dd><dt><span>institution_references :</span></dt><dd>http://io-bas.bg</dd><dt><span>contact :</span></dt><dd>cmems-service@io-bas.bg</dd><dt><span>author :</span></dt><dd> </dd><dt><span>data_assembly_center :</span></dt><dd>IOBAS</dd><dt><span>pi_name :</span></dt><dd> </dd><dt><span>distribution_statement :</span></dt><dd>These data follow Copernicus standards; they are public and free of charge. User assumes all risk for use of data. User must display citation in any publication or product using data. User must contact PI prior to any commercial use of data.</dd><dt><span>citation :</span></dt><dd>These data were collected and made freely available by the Copernicus project and the programs that contribute to it</dd><dt><span>update_interval :</span></dt><dd>daily</dd><dt><span>qc_manual :</span></dt><dd>OceanSITES User\\&#x27;s Manual v1.2</dd><dt><span>last_latitude_observation :</span></dt><dd>43.192</dd><dt><span>last_longitude_observation :</span></dt><dd>27.911</dd><dt><span>last_date_observation :</span></dt><dd>2020-03-31T23:58:00Z</dd></dl></div></li></ul></div></div>"
      ],
      "text/plain": [
       "<xarray.Dataset>\n",
       "Dimensions:      (DEPTH: 1, LATITUDE: 1707839, LONGITUDE: 1707839, POSITION: 1707839, TIME: 1707839)\n",
       "Coordinates:\n",
       "  * TIME         (TIME) datetime64[ns] 2017-01-01 ... 2020-03-31T23:57:59.999...\n",
       "  * LATITUDE     (LATITUDE) float32 43.19 43.19 43.19 ... 43.19 43.19 43.19\n",
       "  * LONGITUDE    (LONGITUDE) float32 27.91 27.91 27.91 ... 27.91 27.91 27.91\n",
       "Dimensions without coordinates: DEPTH, POSITION\n",
       "Data variables:\n",
       "    TIME_QC      (TIME) float32 ...\n",
       "    POSITION_QC  (POSITION) float32 ...\n",
       "    DEPH         (TIME, DEPTH) float32 ...\n",
       "    DEPH_QC      (TIME, DEPTH) float32 ...\n",
       "    DEPH_DM      (TIME, DEPTH) object ...\n",
       "    SLEV         (TIME, DEPTH) float64 ...\n",
       "    SLEV_QC      (TIME, DEPTH) float32 ...\n",
       "    SLEV_DM      (TIME, DEPTH) object ...\n",
       "Attributes:\n",
       "    data_type:                   OceanSITES time-series data\n",
       "    format_version:              1.2\n",
       "    date_update:                 2020-04-23T06:32:41Z\n",
       "    platform_code:               Varna\n",
       "    institution:                 Institute of Oceanology  Bulgarian Academy o...\n",
       "    institution_edmo_code:       1843\n",
       "    site_code:                    \n",
       "    wmo_platform_code:            \n",
       "    source:                      coastal structure\n",
       "    history:                     2020-04-23T06:32:41Z: Creation\n",
       "    data_mode:                   R\n",
       "    quality_control_indicator:   6\n",
       "    quality_index:               A\n",
       "    references:                  http://www.oceansites.org, http://marine.cop...\n",
       "    comment:                      \n",
       "    Conventions:                 CF-1.6 OceanSITES-Manual-1.2 Copernicus-InSi...\n",
       "    netcdf_version:              netCDF-4 classic model\n",
       "    title:                       Black Sea - NRT in situ Observations\n",
       "    summary:                      \n",
       "    naming_authority:            OceanSITES\n",
       "    id:                          BS_TS_TG_Varna\n",
       "    cdm_data_type:               Time-series\n",
       "    area:                        Black Sea\n",
       "    geospatial_lat_min:          43.192\n",
       "    geospatial_lat_max:          43.192\n",
       "    geospatial_lon_min:          27.911\n",
       "    geospatial_lon_max:          27.911\n",
       "    geospatial_vertical_min:     0\n",
       "    geospatial_vertical_max:     0\n",
       "    time_coverage_start:         2017-01-01T00:00:00Z\n",
       "    time_coverage_end:           2020-03-31T23:58:00Z\n",
       "    institution_references:      http://io-bas.bg\n",
       "    contact:                     cmems-service@io-bas.bg\n",
       "    author:                       \n",
       "    data_assembly_center:        IOBAS\n",
       "    pi_name:                      \n",
       "    distribution_statement:      These data follow Copernicus standards; they...\n",
       "    citation:                    These data were collected and made freely av...\n",
       "    update_interval:             daily\n",
       "    qc_manual:                   OceanSITES User\\'s Manual v1.2\n",
       "    last_latitude_observation:   43.192\n",
       "    last_longitude_observation:  27.911\n",
       "    last_date_observation:       2020-03-31T23:58:00Z"
      ]
     },
     "execution_count": 4,
     "metadata": {},
     "output_type": "execute_result"
    }
   ],
   "source": [
    "ds = xarray.open_dataset(path)\n",
    "ds.close()\n",
    "ds"
   ]
  },
  {
   "cell_type": "markdown",
   "metadata": {},
   "source": [
    "The above one is an overview of the content of the file: variables, dimensions, coordinates, global attributes...\n",
    "<br>i.e We are able to know already the platform last position. Let's draw it on a map: `run the next cell`"
   ]
  },
  {
   "cell_type": "code",
   "execution_count": 5,
   "metadata": {},
   "outputs": [
    {
     "data": {
      "text/html": [
       "<div style=\"width:100%;\"><div style=\"position:relative;width:100%;height:0;padding-bottom:60%;\"><span style=\"color:#565656\">Make this Notebook Trusted to load map: File -> Trust Notebook</span><iframe src=\"about:blank\" style=\"position:absolute;width:100%;height:100%;left:0;top:0;border:none !important;\" data-html=%3C%21DOCTYPE%20html%3E%0A%3Chead%3E%20%20%20%20%0A%20%20%20%20%3Cmeta%20http-equiv%3D%22content-type%22%20content%3D%22text/html%3B%20charset%3DUTF-8%22%20/%3E%0A%20%20%20%20%0A%20%20%20%20%20%20%20%20%3Cscript%3E%0A%20%20%20%20%20%20%20%20%20%20%20%20L_NO_TOUCH%20%3D%20false%3B%0A%20%20%20%20%20%20%20%20%20%20%20%20L_DISABLE_3D%20%3D%20false%3B%0A%20%20%20%20%20%20%20%20%3C/script%3E%0A%20%20%20%20%0A%20%20%20%20%3Cstyle%3Ehtml%2C%20body%20%7Bwidth%3A%20100%25%3Bheight%3A%20100%25%3Bmargin%3A%200%3Bpadding%3A%200%3B%7D%3C/style%3E%0A%20%20%20%20%3Cstyle%3E%23map%20%7Bposition%3Aabsolute%3Btop%3A0%3Bbottom%3A0%3Bright%3A0%3Bleft%3A0%3B%7D%3C/style%3E%0A%20%20%20%20%3Cscript%20src%3D%22https%3A//cdn.jsdelivr.net/npm/leaflet%401.6.0/dist/leaflet.js%22%3E%3C/script%3E%0A%20%20%20%20%3Cscript%20src%3D%22https%3A//code.jquery.com/jquery-1.12.4.min.js%22%3E%3C/script%3E%0A%20%20%20%20%3Cscript%20src%3D%22https%3A//maxcdn.bootstrapcdn.com/bootstrap/3.2.0/js/bootstrap.min.js%22%3E%3C/script%3E%0A%20%20%20%20%3Cscript%20src%3D%22https%3A//cdnjs.cloudflare.com/ajax/libs/Leaflet.awesome-markers/2.0.2/leaflet.awesome-markers.js%22%3E%3C/script%3E%0A%20%20%20%20%3Clink%20rel%3D%22stylesheet%22%20href%3D%22https%3A//cdn.jsdelivr.net/npm/leaflet%401.6.0/dist/leaflet.css%22/%3E%0A%20%20%20%20%3Clink%20rel%3D%22stylesheet%22%20href%3D%22https%3A//maxcdn.bootstrapcdn.com/bootstrap/3.2.0/css/bootstrap.min.css%22/%3E%0A%20%20%20%20%3Clink%20rel%3D%22stylesheet%22%20href%3D%22https%3A//maxcdn.bootstrapcdn.com/bootstrap/3.2.0/css/bootstrap-theme.min.css%22/%3E%0A%20%20%20%20%3Clink%20rel%3D%22stylesheet%22%20href%3D%22https%3A//maxcdn.bootstrapcdn.com/font-awesome/4.6.3/css/font-awesome.min.css%22/%3E%0A%20%20%20%20%3Clink%20rel%3D%22stylesheet%22%20href%3D%22https%3A//cdnjs.cloudflare.com/ajax/libs/Leaflet.awesome-markers/2.0.2/leaflet.awesome-markers.css%22/%3E%0A%20%20%20%20%3Clink%20rel%3D%22stylesheet%22%20href%3D%22https%3A//cdn.jsdelivr.net/gh/python-visualization/folium/folium/templates/leaflet.awesome.rotate.min.css%22/%3E%0A%20%20%20%20%0A%20%20%20%20%20%20%20%20%20%20%20%20%3Cmeta%20name%3D%22viewport%22%20content%3D%22width%3Ddevice-width%2C%0A%20%20%20%20%20%20%20%20%20%20%20%20%20%20%20%20initial-scale%3D1.0%2C%20maximum-scale%3D1.0%2C%20user-scalable%3Dno%22%20/%3E%0A%20%20%20%20%20%20%20%20%20%20%20%20%3Cstyle%3E%0A%20%20%20%20%20%20%20%20%20%20%20%20%20%20%20%20%23map_d875340a91864e23b6c78692d351b35a%20%7B%0A%20%20%20%20%20%20%20%20%20%20%20%20%20%20%20%20%20%20%20%20position%3A%20relative%3B%0A%20%20%20%20%20%20%20%20%20%20%20%20%20%20%20%20%20%20%20%20width%3A%20100.0%25%3B%0A%20%20%20%20%20%20%20%20%20%20%20%20%20%20%20%20%20%20%20%20height%3A%20100.0%25%3B%0A%20%20%20%20%20%20%20%20%20%20%20%20%20%20%20%20%20%20%20%20left%3A%200.0%25%3B%0A%20%20%20%20%20%20%20%20%20%20%20%20%20%20%20%20%20%20%20%20top%3A%200.0%25%3B%0A%20%20%20%20%20%20%20%20%20%20%20%20%20%20%20%20%7D%0A%20%20%20%20%20%20%20%20%20%20%20%20%3C/style%3E%0A%20%20%20%20%20%20%20%20%0A%3C/head%3E%0A%3Cbody%3E%20%20%20%20%0A%20%20%20%20%0A%20%20%20%20%20%20%20%20%20%20%20%20%3Cdiv%20class%3D%22folium-map%22%20id%3D%22map_d875340a91864e23b6c78692d351b35a%22%20%3E%3C/div%3E%0A%20%20%20%20%20%20%20%20%0A%3C/body%3E%0A%3Cscript%3E%20%20%20%20%0A%20%20%20%20%0A%20%20%20%20%20%20%20%20%20%20%20%20var%20map_d875340a91864e23b6c78692d351b35a%20%3D%20L.map%28%0A%20%20%20%20%20%20%20%20%20%20%20%20%20%20%20%20%22map_d875340a91864e23b6c78692d351b35a%22%2C%0A%20%20%20%20%20%20%20%20%20%20%20%20%20%20%20%20%7B%0A%20%20%20%20%20%20%20%20%20%20%20%20%20%20%20%20%20%20%20%20center%3A%20%5B43.192%2C%2027.911%5D%2C%0A%20%20%20%20%20%20%20%20%20%20%20%20%20%20%20%20%20%20%20%20crs%3A%20L.CRS.EPSG3857%2C%0A%20%20%20%20%20%20%20%20%20%20%20%20%20%20%20%20%20%20%20%20zoom%3A%206%2C%0A%20%20%20%20%20%20%20%20%20%20%20%20%20%20%20%20%20%20%20%20zoomControl%3A%20true%2C%0A%20%20%20%20%20%20%20%20%20%20%20%20%20%20%20%20%20%20%20%20preferCanvas%3A%20false%2C%0A%20%20%20%20%20%20%20%20%20%20%20%20%20%20%20%20%7D%0A%20%20%20%20%20%20%20%20%20%20%20%20%29%3B%0A%0A%20%20%20%20%20%20%20%20%20%20%20%20%0A%0A%20%20%20%20%20%20%20%20%0A%20%20%20%20%0A%20%20%20%20%20%20%20%20%20%20%20%20var%20tile_layer_b6cd249273304c90b2d3c8be8a9680cd%20%3D%20L.tileLayer%28%0A%20%20%20%20%20%20%20%20%20%20%20%20%20%20%20%20%22https%3A//%7Bs%7D.tile.openstreetmap.org/%7Bz%7D/%7Bx%7D/%7By%7D.png%22%2C%0A%20%20%20%20%20%20%20%20%20%20%20%20%20%20%20%20%7B%22attribution%22%3A%20%22Data%20by%20%5Cu0026copy%3B%20%5Cu003ca%20href%3D%5C%22http%3A//openstreetmap.org%5C%22%5Cu003eOpenStreetMap%5Cu003c/a%5Cu003e%2C%20under%20%5Cu003ca%20href%3D%5C%22http%3A//www.openstreetmap.org/copyright%5C%22%5Cu003eODbL%5Cu003c/a%5Cu003e.%22%2C%20%22detectRetina%22%3A%20false%2C%20%22maxNativeZoom%22%3A%2018%2C%20%22maxZoom%22%3A%2018%2C%20%22minZoom%22%3A%200%2C%20%22noWrap%22%3A%20false%2C%20%22opacity%22%3A%201%2C%20%22subdomains%22%3A%20%22abc%22%2C%20%22tms%22%3A%20false%7D%0A%20%20%20%20%20%20%20%20%20%20%20%20%29.addTo%28map_d875340a91864e23b6c78692d351b35a%29%3B%0A%20%20%20%20%20%20%20%20%0A%20%20%20%20%0A%20%20%20%20%20%20%20%20%20%20%20%20var%20marker_154295754ec0475ab06ecf9cb9ee85d0%20%3D%20L.marker%28%0A%20%20%20%20%20%20%20%20%20%20%20%20%20%20%20%20%5B43.192%2C%2027.911%5D%2C%0A%20%20%20%20%20%20%20%20%20%20%20%20%20%20%20%20%7B%7D%0A%20%20%20%20%20%20%20%20%20%20%20%20%29.addTo%28map_d875340a91864e23b6c78692d351b35a%29%3B%0A%20%20%20%20%20%20%20%20%0A%20%20%20%20%0A%20%20%20%20%20%20%20%20%20%20%20%20marker_154295754ec0475ab06ecf9cb9ee85d0.bindTooltip%28%0A%20%20%20%20%20%20%20%20%20%20%20%20%20%20%20%20%60%3Cdiv%3E%0A%20%20%20%20%20%20%20%20%20%20%20%20%20%20%20%20%20%20%20%20%20Varna%0A%20%20%20%20%20%20%20%20%20%20%20%20%20%20%20%20%20%3C/div%3E%60%2C%0A%20%20%20%20%20%20%20%20%20%20%20%20%20%20%20%20%7B%22sticky%22%3A%20true%7D%0A%20%20%20%20%20%20%20%20%20%20%20%20%29%3B%0A%20%20%20%20%20%20%20%20%0A%3C/script%3E onload=\"this.contentDocument.open();this.contentDocument.write(    decodeURIComponent(this.getAttribute('data-html')));this.contentDocument.close();\" allowfullscreen webkitallowfullscreen mozallowfullscreen></iframe></div></div>"
      ],
      "text/plain": [
       "<folium.folium.Map at 0x7fd365d14d30>"
      ]
     },
     "execution_count": 5,
     "metadata": {},
     "output_type": "execute_result"
    }
   ],
   "source": [
    "m = folium.Map(\n",
    "    location=[float(ds.attrs['last_latitude_observation']),float(ds.attrs['last_longitude_observation'])],\n",
    "    zoom_start=6\n",
    ")\n",
    "tooltip = ds.platform_code\n",
    "folium.Marker([float(ds.last_latitude_observation), float(ds.last_longitude_observation)], tooltip=tooltip).add_to(m)\n",
    "m"
   ]
  },
  {
   "cell_type": "markdown",
   "metadata": {},
   "source": [
    "<div class=\"alert alert-block alert-warning\">\n",
    "<b>WARNING</b>\n",
    "    \n",
    "***  \n",
    "If you do not see any map when running the next cell please change your navigator (try chrome!).\n",
    "</div>"
   ]
  },
  {
   "cell_type": "markdown",
   "metadata": {},
   "source": [
    "<br>Let's list now the available variables: `run the next cell`"
   ]
  },
  {
   "cell_type": "code",
   "execution_count": 6,
   "metadata": {},
   "outputs": [
    {
     "name": "stdout",
     "output_type": "stream",
     "text": [
      "TIME:Time\n",
      "TIME_QC:quality flag\n",
      "LATITUDE:Latitude of each location\n",
      "LONGITUDE:Longitude of each location\n",
      "POSITION_QC:quality flag\n",
      "DEPH:Depth\n",
      "DEPH_QC:quality flag\n",
      "DEPH_DM:method of data processing\n",
      "SLEV:Water surface height above a specific datum\n",
      "SLEV_QC:quality flag\n",
      "SLEV_DM:method of data processing\n"
     ]
    }
   ],
   "source": [
    "for var in ds.variables:\n",
    "    print(var + ':' + ds[var].attrs['long_name'])"
   ]
  },
  {
   "cell_type": "markdown",
   "metadata": {},
   "source": [
    "Let's focus on one of the parameters `run he next cell` to see its attributes:"
   ]
  },
  {
   "cell_type": "code",
   "execution_count": 7,
   "metadata": {},
   "outputs": [
    {
     "data": {
      "text/html": [
       "<div><svg style=\"position: absolute; width: 0; height: 0; overflow: hidden\">\n",
       "<defs>\n",
       "<symbol id=\"icon-database\" viewBox=\"0 0 32 32\">\n",
       "<path d=\"M16 0c-8.837 0-16 2.239-16 5v4c0 2.761 7.163 5 16 5s16-2.239 16-5v-4c0-2.761-7.163-5-16-5z\"></path>\n",
       "<path d=\"M16 17c-8.837 0-16-2.239-16-5v6c0 2.761 7.163 5 16 5s16-2.239 16-5v-6c0 2.761-7.163 5-16 5z\"></path>\n",
       "<path d=\"M16 26c-8.837 0-16-2.239-16-5v6c0 2.761 7.163 5 16 5s16-2.239 16-5v-6c0 2.761-7.163 5-16 5z\"></path>\n",
       "</symbol>\n",
       "<symbol id=\"icon-file-text2\" viewBox=\"0 0 32 32\">\n",
       "<path d=\"M28.681 7.159c-0.694-0.947-1.662-2.053-2.724-3.116s-2.169-2.030-3.116-2.724c-1.612-1.182-2.393-1.319-2.841-1.319h-15.5c-1.378 0-2.5 1.121-2.5 2.5v27c0 1.378 1.122 2.5 2.5 2.5h23c1.378 0 2.5-1.122 2.5-2.5v-19.5c0-0.448-0.137-1.23-1.319-2.841zM24.543 5.457c0.959 0.959 1.712 1.825 2.268 2.543h-4.811v-4.811c0.718 0.556 1.584 1.309 2.543 2.268zM28 29.5c0 0.271-0.229 0.5-0.5 0.5h-23c-0.271 0-0.5-0.229-0.5-0.5v-27c0-0.271 0.229-0.5 0.5-0.5 0 0 15.499-0 15.5 0v7c0 0.552 0.448 1 1 1h7v19.5z\"></path>\n",
       "<path d=\"M23 26h-14c-0.552 0-1-0.448-1-1s0.448-1 1-1h14c0.552 0 1 0.448 1 1s-0.448 1-1 1z\"></path>\n",
       "<path d=\"M23 22h-14c-0.552 0-1-0.448-1-1s0.448-1 1-1h14c0.552 0 1 0.448 1 1s-0.448 1-1 1z\"></path>\n",
       "<path d=\"M23 18h-14c-0.552 0-1-0.448-1-1s0.448-1 1-1h14c0.552 0 1 0.448 1 1s-0.448 1-1 1z\"></path>\n",
       "</symbol>\n",
       "</defs>\n",
       "</svg>\n",
       "<style>/* CSS stylesheet for displaying xarray objects in jupyterlab.\n",
       " *\n",
       " */\n",
       "\n",
       ":root {\n",
       "  --xr-font-color0: var(--jp-content-font-color0, rgba(0, 0, 0, 1));\n",
       "  --xr-font-color2: var(--jp-content-font-color2, rgba(0, 0, 0, 0.54));\n",
       "  --xr-font-color3: var(--jp-content-font-color3, rgba(0, 0, 0, 0.38));\n",
       "  --xr-border-color: var(--jp-border-color2, #e0e0e0);\n",
       "  --xr-disabled-color: var(--jp-layout-color3, #bdbdbd);\n",
       "  --xr-background-color: var(--jp-layout-color0, white);\n",
       "  --xr-background-color-row-even: var(--jp-layout-color1, white);\n",
       "  --xr-background-color-row-odd: var(--jp-layout-color2, #eeeeee);\n",
       "}\n",
       "\n",
       "html[theme=dark],\n",
       "body.vscode-dark {\n",
       "  --xr-font-color0: rgba(255, 255, 255, 1);\n",
       "  --xr-font-color2: rgba(255, 255, 255, 0.54);\n",
       "  --xr-font-color3: rgba(255, 255, 255, 0.38);\n",
       "  --xr-border-color: #1F1F1F;\n",
       "  --xr-disabled-color: #515151;\n",
       "  --xr-background-color: #111111;\n",
       "  --xr-background-color-row-even: #111111;\n",
       "  --xr-background-color-row-odd: #313131;\n",
       "}\n",
       "\n",
       ".xr-wrap {\n",
       "  display: block;\n",
       "  min-width: 300px;\n",
       "  max-width: 700px;\n",
       "}\n",
       "\n",
       ".xr-text-repr-fallback {\n",
       "  /* fallback to plain text repr when CSS is not injected (untrusted notebook) */\n",
       "  display: none;\n",
       "}\n",
       "\n",
       ".xr-header {\n",
       "  padding-top: 6px;\n",
       "  padding-bottom: 6px;\n",
       "  margin-bottom: 4px;\n",
       "  border-bottom: solid 1px var(--xr-border-color);\n",
       "}\n",
       "\n",
       ".xr-header > div,\n",
       ".xr-header > ul {\n",
       "  display: inline;\n",
       "  margin-top: 0;\n",
       "  margin-bottom: 0;\n",
       "}\n",
       "\n",
       ".xr-obj-type,\n",
       ".xr-array-name {\n",
       "  margin-left: 2px;\n",
       "  margin-right: 10px;\n",
       "}\n",
       "\n",
       ".xr-obj-type {\n",
       "  color: var(--xr-font-color2);\n",
       "}\n",
       "\n",
       ".xr-sections {\n",
       "  padding-left: 0 !important;\n",
       "  display: grid;\n",
       "  grid-template-columns: 150px auto auto 1fr 20px 20px;\n",
       "}\n",
       "\n",
       ".xr-section-item {\n",
       "  display: contents;\n",
       "}\n",
       "\n",
       ".xr-section-item input {\n",
       "  display: none;\n",
       "}\n",
       "\n",
       ".xr-section-item input + label {\n",
       "  color: var(--xr-disabled-color);\n",
       "}\n",
       "\n",
       ".xr-section-item input:enabled + label {\n",
       "  cursor: pointer;\n",
       "  color: var(--xr-font-color2);\n",
       "}\n",
       "\n",
       ".xr-section-item input:enabled + label:hover {\n",
       "  color: var(--xr-font-color0);\n",
       "}\n",
       "\n",
       ".xr-section-summary {\n",
       "  grid-column: 1;\n",
       "  color: var(--xr-font-color2);\n",
       "  font-weight: 500;\n",
       "}\n",
       "\n",
       ".xr-section-summary > span {\n",
       "  display: inline-block;\n",
       "  padding-left: 0.5em;\n",
       "}\n",
       "\n",
       ".xr-section-summary-in:disabled + label {\n",
       "  color: var(--xr-font-color2);\n",
       "}\n",
       "\n",
       ".xr-section-summary-in + label:before {\n",
       "  display: inline-block;\n",
       "  content: '►';\n",
       "  font-size: 11px;\n",
       "  width: 15px;\n",
       "  text-align: center;\n",
       "}\n",
       "\n",
       ".xr-section-summary-in:disabled + label:before {\n",
       "  color: var(--xr-disabled-color);\n",
       "}\n",
       "\n",
       ".xr-section-summary-in:checked + label:before {\n",
       "  content: '▼';\n",
       "}\n",
       "\n",
       ".xr-section-summary-in:checked + label > span {\n",
       "  display: none;\n",
       "}\n",
       "\n",
       ".xr-section-summary,\n",
       ".xr-section-inline-details {\n",
       "  padding-top: 4px;\n",
       "  padding-bottom: 4px;\n",
       "}\n",
       "\n",
       ".xr-section-inline-details {\n",
       "  grid-column: 2 / -1;\n",
       "}\n",
       "\n",
       ".xr-section-details {\n",
       "  display: none;\n",
       "  grid-column: 1 / -1;\n",
       "  margin-bottom: 5px;\n",
       "}\n",
       "\n",
       ".xr-section-summary-in:checked ~ .xr-section-details {\n",
       "  display: contents;\n",
       "}\n",
       "\n",
       ".xr-array-wrap {\n",
       "  grid-column: 1 / -1;\n",
       "  display: grid;\n",
       "  grid-template-columns: 20px auto;\n",
       "}\n",
       "\n",
       ".xr-array-wrap > label {\n",
       "  grid-column: 1;\n",
       "  vertical-align: top;\n",
       "}\n",
       "\n",
       ".xr-preview {\n",
       "  color: var(--xr-font-color3);\n",
       "}\n",
       "\n",
       ".xr-array-preview,\n",
       ".xr-array-data {\n",
       "  padding: 0 5px !important;\n",
       "  grid-column: 2;\n",
       "}\n",
       "\n",
       ".xr-array-data,\n",
       ".xr-array-in:checked ~ .xr-array-preview {\n",
       "  display: none;\n",
       "}\n",
       "\n",
       ".xr-array-in:checked ~ .xr-array-data,\n",
       ".xr-array-preview {\n",
       "  display: inline-block;\n",
       "}\n",
       "\n",
       ".xr-dim-list {\n",
       "  display: inline-block !important;\n",
       "  list-style: none;\n",
       "  padding: 0 !important;\n",
       "  margin: 0;\n",
       "}\n",
       "\n",
       ".xr-dim-list li {\n",
       "  display: inline-block;\n",
       "  padding: 0;\n",
       "  margin: 0;\n",
       "}\n",
       "\n",
       ".xr-dim-list:before {\n",
       "  content: '(';\n",
       "}\n",
       "\n",
       ".xr-dim-list:after {\n",
       "  content: ')';\n",
       "}\n",
       "\n",
       ".xr-dim-list li:not(:last-child):after {\n",
       "  content: ',';\n",
       "  padding-right: 5px;\n",
       "}\n",
       "\n",
       ".xr-has-index {\n",
       "  font-weight: bold;\n",
       "}\n",
       "\n",
       ".xr-var-list,\n",
       ".xr-var-item {\n",
       "  display: contents;\n",
       "}\n",
       "\n",
       ".xr-var-item > div,\n",
       ".xr-var-item label,\n",
       ".xr-var-item > .xr-var-name span {\n",
       "  background-color: var(--xr-background-color-row-even);\n",
       "  margin-bottom: 0;\n",
       "}\n",
       "\n",
       ".xr-var-item > .xr-var-name:hover span {\n",
       "  padding-right: 5px;\n",
       "}\n",
       "\n",
       ".xr-var-list > li:nth-child(odd) > div,\n",
       ".xr-var-list > li:nth-child(odd) > label,\n",
       ".xr-var-list > li:nth-child(odd) > .xr-var-name span {\n",
       "  background-color: var(--xr-background-color-row-odd);\n",
       "}\n",
       "\n",
       ".xr-var-name {\n",
       "  grid-column: 1;\n",
       "}\n",
       "\n",
       ".xr-var-dims {\n",
       "  grid-column: 2;\n",
       "}\n",
       "\n",
       ".xr-var-dtype {\n",
       "  grid-column: 3;\n",
       "  text-align: right;\n",
       "  color: var(--xr-font-color2);\n",
       "}\n",
       "\n",
       ".xr-var-preview {\n",
       "  grid-column: 4;\n",
       "}\n",
       "\n",
       ".xr-var-name,\n",
       ".xr-var-dims,\n",
       ".xr-var-dtype,\n",
       ".xr-preview,\n",
       ".xr-attrs dt {\n",
       "  white-space: nowrap;\n",
       "  overflow: hidden;\n",
       "  text-overflow: ellipsis;\n",
       "  padding-right: 10px;\n",
       "}\n",
       "\n",
       ".xr-var-name:hover,\n",
       ".xr-var-dims:hover,\n",
       ".xr-var-dtype:hover,\n",
       ".xr-attrs dt:hover {\n",
       "  overflow: visible;\n",
       "  width: auto;\n",
       "  z-index: 1;\n",
       "}\n",
       "\n",
       ".xr-var-attrs,\n",
       ".xr-var-data {\n",
       "  display: none;\n",
       "  background-color: var(--xr-background-color) !important;\n",
       "  padding-bottom: 5px !important;\n",
       "}\n",
       "\n",
       ".xr-var-attrs-in:checked ~ .xr-var-attrs,\n",
       ".xr-var-data-in:checked ~ .xr-var-data {\n",
       "  display: block;\n",
       "}\n",
       "\n",
       ".xr-var-data > table {\n",
       "  float: right;\n",
       "}\n",
       "\n",
       ".xr-var-name span,\n",
       ".xr-var-data,\n",
       ".xr-attrs {\n",
       "  padding-left: 25px !important;\n",
       "}\n",
       "\n",
       ".xr-attrs,\n",
       ".xr-var-attrs,\n",
       ".xr-var-data {\n",
       "  grid-column: 1 / -1;\n",
       "}\n",
       "\n",
       "dl.xr-attrs {\n",
       "  padding: 0;\n",
       "  margin: 0;\n",
       "  display: grid;\n",
       "  grid-template-columns: 125px auto;\n",
       "}\n",
       "\n",
       ".xr-attrs dt,\n",
       ".xr-attrs dd {\n",
       "  padding: 0;\n",
       "  margin: 0;\n",
       "  float: left;\n",
       "  padding-right: 10px;\n",
       "  width: auto;\n",
       "}\n",
       "\n",
       ".xr-attrs dt {\n",
       "  font-weight: normal;\n",
       "  grid-column: 1;\n",
       "}\n",
       "\n",
       ".xr-attrs dt:hover span {\n",
       "  display: inline-block;\n",
       "  background: var(--xr-background-color);\n",
       "  padding-right: 10px;\n",
       "}\n",
       "\n",
       ".xr-attrs dd {\n",
       "  grid-column: 2;\n",
       "  white-space: pre-wrap;\n",
       "  word-break: break-all;\n",
       "}\n",
       "\n",
       ".xr-icon-database,\n",
       ".xr-icon-file-text2 {\n",
       "  display: inline-block;\n",
       "  vertical-align: middle;\n",
       "  width: 1em;\n",
       "  height: 1.5em !important;\n",
       "  stroke-width: 0;\n",
       "  stroke: currentColor;\n",
       "  fill: currentColor;\n",
       "}\n",
       "</style><pre class='xr-text-repr-fallback'>&lt;xarray.DataArray &#x27;SLEV&#x27; (TIME: 1707839)&gt;\n",
       "[1707839 values with dtype=float64]\n",
       "Coordinates:\n",
       "  * TIME     (TIME) datetime64[ns] 2017-01-01 ... 2020-03-31T23:57:59.999997184\n",
       "Attributes:\n",
       "    long_name:          Water surface height above a specific datum\n",
       "    standard_name:      water_surface_height_above_reference_datum\n",
       "    units:              m\n",
       "    time_sampling:      1.0\n",
       "    sea_level_datum:    geodetic datum\n",
       "    processing_method:  instantaneous values</pre><div class='xr-wrap' hidden><div class='xr-header'><div class='xr-obj-type'>xarray.DataArray</div><div class='xr-array-name'>'SLEV'</div><ul class='xr-dim-list'><li><span class='xr-has-index'>TIME</span>: 1707839</li></ul></div><ul class='xr-sections'><li class='xr-section-item'><div class='xr-array-wrap'><input id='section-e5ca8d12-368a-474c-bf8e-2bf36d8c6471' class='xr-array-in' type='checkbox' checked><label for='section-e5ca8d12-368a-474c-bf8e-2bf36d8c6471' title='Show/hide data repr'><svg class='icon xr-icon-database'><use xlink:href='#icon-database'></use></svg></label><div class='xr-array-preview xr-preview'><span>...</span></div><div class='xr-array-data'><pre>[1707839 values with dtype=float64]</pre></div></div></li><li class='xr-section-item'><input id='section-a25b3c8a-6956-4670-b090-fdcad67217b6' class='xr-section-summary-in' type='checkbox'  checked><label for='section-a25b3c8a-6956-4670-b090-fdcad67217b6' class='xr-section-summary' >Coordinates: <span>(1)</span></label><div class='xr-section-inline-details'></div><div class='xr-section-details'><ul class='xr-var-list'><li class='xr-var-item'><div class='xr-var-name'><span class='xr-has-index'>TIME</span></div><div class='xr-var-dims'>(TIME)</div><div class='xr-var-dtype'>datetime64[ns]</div><div class='xr-var-preview xr-preview'>2017-01-01 ... 2020-03-31T23:57:...</div><input id='attrs-3799b438-7d3d-4883-b9c6-b2a53d2450e5' class='xr-var-attrs-in' type='checkbox' ><label for='attrs-3799b438-7d3d-4883-b9c6-b2a53d2450e5' title='Show/Hide attributes'><svg class='icon xr-icon-file-text2'><use xlink:href='#icon-file-text2'></use></svg></label><input id='data-c892897c-ae55-4fbc-adfd-dee2f400e9ae' class='xr-var-data-in' type='checkbox'><label for='data-c892897c-ae55-4fbc-adfd-dee2f400e9ae' title='Show/Hide data repr'><svg class='icon xr-icon-database'><use xlink:href='#icon-database'></use></svg></label><div class='xr-var-attrs'><dl class='xr-attrs'><dt><span>long_name :</span></dt><dd>Time</dd><dt><span>standard_name :</span></dt><dd>time</dd><dt><span>valid_min :</span></dt><dd>-90000.0</dd><dt><span>valid_max :</span></dt><dd>90000.0</dd><dt><span>QC_indicator :</span></dt><dd>1</dd><dt><span>QC_procedure :</span></dt><dd>1</dd><dt><span>uncertainty :</span></dt><dd> </dd><dt><span>comment :</span></dt><dd> </dd><dt><span>axis :</span></dt><dd>T</dd></dl></div><div class='xr-var-data'><pre>array([&#x27;2017-01-01T00:00:00.000000000&#x27;, &#x27;2017-01-01T00:00:59.999996416&#x27;,\n",
       "       &#x27;2017-01-01T00:02:00.000002816&#x27;, ..., &#x27;2020-03-31T23:56:00.000004352&#x27;,\n",
       "       &#x27;2020-03-31T23:57:00.000000768&#x27;, &#x27;2020-03-31T23:57:59.999997184&#x27;],\n",
       "      dtype=&#x27;datetime64[ns]&#x27;)</pre></div></li></ul></div></li><li class='xr-section-item'><input id='section-28a3f048-77f4-437e-b377-9ff50d41ee78' class='xr-section-summary-in' type='checkbox'  checked><label for='section-28a3f048-77f4-437e-b377-9ff50d41ee78' class='xr-section-summary' >Attributes: <span>(6)</span></label><div class='xr-section-inline-details'></div><div class='xr-section-details'><dl class='xr-attrs'><dt><span>long_name :</span></dt><dd>Water surface height above a specific datum</dd><dt><span>standard_name :</span></dt><dd>water_surface_height_above_reference_datum</dd><dt><span>units :</span></dt><dd>m</dd><dt><span>time_sampling :</span></dt><dd>1.0</dd><dt><span>sea_level_datum :</span></dt><dd>geodetic datum</dd><dt><span>processing_method :</span></dt><dd>instantaneous values</dd></dl></div></li></ul></div></div>"
      ],
      "text/plain": [
       "<xarray.DataArray 'SLEV' (TIME: 1707839)>\n",
       "[1707839 values with dtype=float64]\n",
       "Coordinates:\n",
       "  * TIME     (TIME) datetime64[ns] 2017-01-01 ... 2020-03-31T23:57:59.999997184\n",
       "Attributes:\n",
       "    long_name:          Water surface height above a specific datum\n",
       "    standard_name:      water_surface_height_above_reference_datum\n",
       "    units:              m\n",
       "    time_sampling:      1.0\n",
       "    sea_level_datum:    geodetic datum\n",
       "    processing_method:  instantaneous values"
      ]
     },
     "execution_count": 7,
     "metadata": {},
     "output_type": "execute_result"
    }
   ],
   "source": [
    "param = 'SLEV'\n",
    "ds[param][:,0]"
   ]
  },
  {
   "cell_type": "markdown",
   "metadata": {},
   "source": [
    "Let's have  a look to the whole parameter time serie: `run the next cell`"
   ]
  },
  {
   "cell_type": "code",
   "execution_count": 8,
   "metadata": {},
   "outputs": [
    {
     "data": {
      "text/plain": [
       "[<matplotlib.lines.Line2D at 0x7fd366a1edf0>]"
      ]
     },
     "execution_count": 8,
     "metadata": {},
     "output_type": "execute_result"
    },
    {
     "data": {
      "image/png": "[encoded data removed]",
      "text/plain": [
       "<Figure size 1440x720 with 1 Axes>"
      ]
     },
     "metadata": {
      "needs_background": "light"
     },
     "output_type": "display_data"
    }
   ],
   "source": [
    "ds[param][:,0].plot(aspect=2, size=10, color='k', marker='o')"
   ]
  },
  {
   "cell_type": "markdown",
   "metadata": {},
   "source": [
    "### 3.2. Subsetting Operations"
   ]
  },
  {
   "cell_type": "markdown",
   "metadata": {},
   "source": [
    "Let's select an specific time range:"
   ]
  },
  {
   "cell_type": "code",
   "execution_count": 9,
   "metadata": {},
   "outputs": [],
   "source": [
    "start = '2019-01-01'\n",
    "end = '2019-12-30'"
   ]
  },
  {
   "cell_type": "code",
   "execution_count": 10,
   "metadata": {},
   "outputs": [
    {
     "data": {
      "text/plain": [
       "[<matplotlib.lines.Line2D at 0x7fd3668be7f0>]"
      ]
     },
     "execution_count": 10,
     "metadata": {},
     "output_type": "execute_result"
    },
    {
     "data": {
      "image/png": "[encoded data removed]",
      "text/plain": [
       "<Figure size 1440x720 with 1 Axes>"
      ]
     },
     "metadata": {
      "needs_background": "light"
     },
     "output_type": "display_data"
    }
   ],
   "source": [
    "subset = ds[param][:,0].sel(TIME=slice(start, end))\n",
    "subset.plot(aspect=2, size=10, color='k', marker='o')"
   ]
  },
  {
   "cell_type": "markdown",
   "metadata": {},
   "source": [
    "### 3.3. Sampling Operations"
   ]
  },
  {
   "cell_type": "markdown",
   "metadata": {},
   "source": [
    "We will upsample and downsample the above serie subset, not the original one, to better see the diferences."
   ]
  },
  {
   "cell_type": "markdown",
   "metadata": {},
   "source": [
    "#### 3.3.1. Selecting Good data (QC flags)"
   ]
  },
  {
   "cell_type": "markdown",
   "metadata": {},
   "source": [
    "Is it there any bad data in the above time serie? `Run the next cell`to check the quality flags assigned to the parameter:"
   ]
  },
  {
   "cell_type": "code",
   "execution_count": 11,
   "metadata": {},
   "outputs": [
    {
     "data": {
      "text/plain": [
       "[<matplotlib.lines.Line2D at 0x7fd36689e340>]"
      ]
     },
     "execution_count": 11,
     "metadata": {},
     "output_type": "execute_result"
    },
    {
     "data": {
      "image/png": "[encoded data removed]",
      "text/plain": [
       "<Figure size 720x360 with 1 Axes>"
      ]
     },
     "metadata": {
      "needs_background": "light"
     },
     "output_type": "display_data"
    }
   ],
   "source": [
    "subset_QC = ds[param+'_QC'][:,0].sel(TIME=slice(start, end))\n",
    "subset_QC.plot(aspect=2, size=5)"
   ]
  },
  {
   "cell_type": "markdown",
   "metadata": {},
   "source": [
    "All In Situ TAC variables are linked to another called the same plus '_QC'. This 'twin' variable contains a quality flag for each value in the paired variable. <br>\n",
    "Let's check all posible 'QC' values: `run the next cell`"
   ]
  },
  {
   "cell_type": "code",
   "execution_count": 12,
   "metadata": {},
   "outputs": [
    {
     "data": {
      "text/html": [
       "<div>\n",
       "<style scoped>\n",
       "    .dataframe tbody tr th:only-of-type {\n",
       "        vertical-align: middle;\n",
       "    }\n",
       "\n",
       "    .dataframe tbody tr th {\n",
       "        vertical-align: top;\n",
       "    }\n",
       "\n",
       "    .dataframe thead th {\n",
       "        text-align: right;\n",
       "    }\n",
       "</style>\n",
       "<table border=\"1\" class=\"dataframe\">\n",
       "  <thead>\n",
       "    <tr style=\"text-align: right;\">\n",
       "      <th></th>\n",
       "      <th>quality flag</th>\n",
       "    </tr>\n",
       "  </thead>\n",
       "  <tbody>\n",
       "    <tr>\n",
       "      <th>no_qc_performed</th>\n",
       "      <td>0</td>\n",
       "    </tr>\n",
       "    <tr>\n",
       "      <th>good_data</th>\n",
       "      <td>1</td>\n",
       "    </tr>\n",
       "    <tr>\n",
       "      <th>probably_good_data</th>\n",
       "      <td>2</td>\n",
       "    </tr>\n",
       "    <tr>\n",
       "      <th>bad_data_that_are_potentially_correctable</th>\n",
       "      <td>3</td>\n",
       "    </tr>\n",
       "    <tr>\n",
       "      <th>bad_data</th>\n",
       "      <td>4</td>\n",
       "    </tr>\n",
       "    <tr>\n",
       "      <th>value_changed</th>\n",
       "      <td>5</td>\n",
       "    </tr>\n",
       "    <tr>\n",
       "      <th>not_used</th>\n",
       "      <td>6</td>\n",
       "    </tr>\n",
       "    <tr>\n",
       "      <th>nominal_value</th>\n",
       "      <td>7</td>\n",
       "    </tr>\n",
       "    <tr>\n",
       "      <th>interpolated_value</th>\n",
       "      <td>8</td>\n",
       "    </tr>\n",
       "    <tr>\n",
       "      <th>missing_value</th>\n",
       "      <td>9</td>\n",
       "    </tr>\n",
       "  </tbody>\n",
       "</table>\n",
       "</div>"
      ],
      "text/plain": [
       "                                           quality flag\n",
       "no_qc_performed                                       0\n",
       "good_data                                             1\n",
       "probably_good_data                                    2\n",
       "bad_data_that_are_potentially_correctable             3\n",
       "bad_data                                              4\n",
       "value_changed                                         5\n",
       "not_used                                              6\n",
       "nominal_value                                         7\n",
       "interpolated_value                                    8\n",
       "missing_value                                         9"
      ]
     },
     "execution_count": 12,
     "metadata": {},
     "output_type": "execute_result"
    }
   ],
   "source": [
    "pd.DataFrame(data=ds[param+'_QC'][:,0].attrs['flag_values'],\n",
    "             index=ds[param+'_QC'][:,0].attrs['flag_meanings'].split(' '), \n",
    "             columns=['quality flag'])"
   ]
  },
  {
   "cell_type": "markdown",
   "metadata": {},
   "source": [
    "From the above list, users are recommended to use only the data flagged as 1; so that, when working with any of the variables, we will perfom first a data cleaning to use only the 'good data'."
   ]
  },
  {
   "cell_type": "markdown",
   "metadata": {},
   "source": [
    "If we wanted to do so (only if in the plot above we saw values different from 1 the operation would be:"
   ]
  },
  {
   "cell_type": "code",
   "execution_count": 13,
   "metadata": {},
   "outputs": [],
   "source": [
    "subset_good = subset.where(subset_QC == 1)"
   ]
  },
  {
   "cell_type": "code",
   "execution_count": 14,
   "metadata": {},
   "outputs": [
    {
     "data": {
      "text/plain": [
       "[<matplotlib.lines.Line2D at 0x7fd3667e0d00>]"
      ]
     },
     "execution_count": 14,
     "metadata": {},
     "output_type": "execute_result"
    },
    {
     "data": {
      "image/png": "[encoded data removed]",
      "text/plain": [
       "<Figure size 1440x720 with 1 Axes>"
      ]
     },
     "metadata": {
      "needs_background": "light"
     },
     "output_type": "display_data"
    }
   ],
   "source": [
    "subset.plot(aspect=2, size=10, color='r', marker='o')#in red the bad data\n",
    "subset_good.plot(color='k', marker='o')#in black the good data!!! :D"
   ]
  },
  {
   "cell_type": "markdown",
   "metadata": {},
   "source": [
    "#### 3.3.2. Upsampling/Downsampling"
   ]
  },
  {
   "cell_type": "markdown",
   "metadata": {},
   "source": [
    "<ul> <li>Downsamplig </li></ul>\n",
    "Let's see next a downsampling example; this is, retrieveing less observations in a given period by agregating some-how <i>i.e mean of the original number of observations</i>. Let's get, by averaging, a mothly resolution sampling: `run the next cell`"
   ]
  },
  {
   "cell_type": "code",
   "execution_count": 15,
   "metadata": {},
   "outputs": [
    {
     "data": {
      "text/plain": [
       "[<matplotlib.lines.Line2D at 0x7fd3667b9250>]"
      ]
     },
     "execution_count": 15,
     "metadata": {},
     "output_type": "execute_result"
    },
    {
     "data": {
      "image/png": "[encoded data removed]",
      "text/plain": [
       "<Figure size 1440x720 with 1 Axes>"
      ]
     },
     "metadata": {
      "needs_background": "light"
     },
     "output_type": "display_data"
    }
   ],
   "source": [
    "(subset_good.resample(TIME='1M').mean()).plot(aspect=2, size=10, color='k', marker='o')"
   ]
  },
  {
   "cell_type": "markdown",
   "metadata": {},
   "source": [
    "<ul><li>Upsampling</ul></li>"
   ]
  },
  {
   "cell_type": "markdown",
   "metadata": {},
   "source": [
    "Let's see next a upsampling example; this is, retrieveing more observations in a given period by inferring new ones some-how i.e <i>interpolating the original number of observations</i>. Let's get, by interpolating, a 0.5 minute resolution instead:"
   ]
  },
  {
   "cell_type": "code",
   "execution_count": 16,
   "metadata": {},
   "outputs": [
    {
     "data": {
      "text/plain": [
       "[<matplotlib.lines.Line2D at 0x7fd345a782e0>]"
      ]
     },
     "execution_count": 16,
     "metadata": {},
     "output_type": "execute_result"
    },
    {
     "data": {
      "image/png": "[encoded data removed]",
      "text/plain": [
       "<Figure size 1440x720 with 1 Axes>"
      ]
     },
     "metadata": {
      "needs_background": "light"
     },
     "output_type": "display_data"
    }
   ],
   "source": [
    "(subset_good.resample(TIME='0.5Min').interpolate('linear')).plot(aspect=2, size=10, color='k', marker='o')"
   ]
  },
  {
   "cell_type": "markdown",
   "metadata": {},
   "source": [
    "### 3.4. Exporting data to csv"
   ]
  },
  {
   "cell_type": "markdown",
   "metadata": {},
   "source": [
    "Let's export the full serie to csv."
   ]
  },
  {
   "cell_type": "markdown",
   "metadata": {},
   "source": [
    "1) `run the next cell` to create a dataframe:"
   ]
  },
  {
   "cell_type": "code",
   "execution_count": 17,
   "metadata": {},
   "outputs": [
    {
     "data": {
      "text/html": [
       "<div>\n",
       "<style scoped>\n",
       "    .dataframe tbody tr th:only-of-type {\n",
       "        vertical-align: middle;\n",
       "    }\n",
       "\n",
       "    .dataframe tbody tr th {\n",
       "        vertical-align: top;\n",
       "    }\n",
       "\n",
       "    .dataframe thead th {\n",
       "        text-align: right;\n",
       "    }\n",
       "</style>\n",
       "<table border=\"1\" class=\"dataframe\">\n",
       "  <thead>\n",
       "    <tr style=\"text-align: right;\">\n",
       "      <th>TIME</th>\n",
       "      <th>2019-01-01 00:00:00.000000000</th>\n",
       "      <th>2019-01-01 00:00:59.999996416</th>\n",
       "      <th>2019-01-01 00:02:00.000002816</th>\n",
       "      <th>2019-01-01 00:02:59.999999232</th>\n",
       "      <th>2019-01-01 00:03:59.999995648</th>\n",
       "      <th>2019-01-01 00:05:00.000002304</th>\n",
       "      <th>2019-01-01 00:05:59.999998720</th>\n",
       "      <th>2019-01-01 00:06:59.999995136</th>\n",
       "      <th>2019-01-01 00:08:00.000001536</th>\n",
       "      <th>2019-01-01 00:08:59.999997952</th>\n",
       "      <th>...</th>\n",
       "      <th>2019-12-30 23:49:59.999995648</th>\n",
       "      <th>2019-12-30 23:51:00.000002048</th>\n",
       "      <th>2019-12-30 23:51:59.999998464</th>\n",
       "      <th>2019-12-30 23:53:00.000004864</th>\n",
       "      <th>2019-12-30 23:54:00.000001280</th>\n",
       "      <th>2019-12-30 23:54:59.999997696</th>\n",
       "      <th>2019-12-30 23:56:00.000004352</th>\n",
       "      <th>2019-12-30 23:57:00.000000768</th>\n",
       "      <th>2019-12-30 23:57:59.999997184</th>\n",
       "      <th>2019-12-30 23:59:00.000003584</th>\n",
       "    </tr>\n",
       "  </thead>\n",
       "  <tbody>\n",
       "    <tr>\n",
       "      <th>SLEV</th>\n",
       "      <td>0.129</td>\n",
       "      <td>0.129</td>\n",
       "      <td>0.129</td>\n",
       "      <td>0.129</td>\n",
       "      <td>0.129</td>\n",
       "      <td>0.129</td>\n",
       "      <td>0.129</td>\n",
       "      <td>0.129</td>\n",
       "      <td>0.129</td>\n",
       "      <td>0.129</td>\n",
       "      <td>...</td>\n",
       "      <td>0.139</td>\n",
       "      <td>0.129</td>\n",
       "      <td>0.119</td>\n",
       "      <td>0.139</td>\n",
       "      <td>0.149</td>\n",
       "      <td>0.139</td>\n",
       "      <td>0.139</td>\n",
       "      <td>0.139</td>\n",
       "      <td>0.149</td>\n",
       "      <td>0.139</td>\n",
       "    </tr>\n",
       "  </tbody>\n",
       "</table>\n",
       "<p>1 rows × 524160 columns</p>\n",
       "</div>"
      ],
      "text/plain": [
       "TIME  2019-01-01 00:00:00.000000000  2019-01-01 00:00:59.999996416  \\\n",
       "SLEV                          0.129                          0.129   \n",
       "\n",
       "TIME  2019-01-01 00:02:00.000002816  2019-01-01 00:02:59.999999232  \\\n",
       "SLEV                          0.129                          0.129   \n",
       "\n",
       "TIME  2019-01-01 00:03:59.999995648  2019-01-01 00:05:00.000002304  \\\n",
       "SLEV                          0.129                          0.129   \n",
       "\n",
       "TIME  2019-01-01 00:05:59.999998720  2019-01-01 00:06:59.999995136  \\\n",
       "SLEV                          0.129                          0.129   \n",
       "\n",
       "TIME  2019-01-01 00:08:00.000001536  2019-01-01 00:08:59.999997952  ...  \\\n",
       "SLEV                          0.129                          0.129  ...   \n",
       "\n",
       "TIME  2019-12-30 23:49:59.999995648  2019-12-30 23:51:00.000002048  \\\n",
       "SLEV                          0.139                          0.129   \n",
       "\n",
       "TIME  2019-12-30 23:51:59.999998464  2019-12-30 23:53:00.000004864  \\\n",
       "SLEV                          0.119                          0.139   \n",
       "\n",
       "TIME  2019-12-30 23:54:00.000001280  2019-12-30 23:54:59.999997696  \\\n",
       "SLEV                          0.149                          0.139   \n",
       "\n",
       "TIME  2019-12-30 23:56:00.000004352  2019-12-30 23:57:00.000000768  \\\n",
       "SLEV                          0.139                          0.139   \n",
       "\n",
       "TIME  2019-12-30 23:57:59.999997184  2019-12-30 23:59:00.000003584  \n",
       "SLEV                          0.149                          0.139  \n",
       "\n",
       "[1 rows x 524160 columns]"
      ]
     },
     "execution_count": 17,
     "metadata": {},
     "output_type": "execute_result"
    }
   ],
   "source": [
    "dataframe = subset_good.to_dataframe()\n",
    "dataframe.transpose()"
   ]
  },
  {
   "cell_type": "markdown",
   "metadata": {},
   "source": [
    "2) `run the next cell` to reset the time axis to readable dates"
   ]
  },
  {
   "cell_type": "code",
   "execution_count": 18,
   "metadata": {},
   "outputs": [
    {
     "data": {
      "text/html": [
       "<div>\n",
       "<style scoped>\n",
       "    .dataframe tbody tr th:only-of-type {\n",
       "        vertical-align: middle;\n",
       "    }\n",
       "\n",
       "    .dataframe tbody tr th {\n",
       "        vertical-align: top;\n",
       "    }\n",
       "\n",
       "    .dataframe thead th {\n",
       "        text-align: right;\n",
       "    }\n",
       "</style>\n",
       "<table border=\"1\" class=\"dataframe\">\n",
       "  <thead>\n",
       "    <tr style=\"text-align: right;\">\n",
       "      <th>TIME</th>\n",
       "      <th>2019-01-01 00:00:00</th>\n",
       "      <th>2019-01-01 00:00:59</th>\n",
       "      <th>2019-01-01 00:02:00</th>\n",
       "      <th>2019-01-01 00:02:59</th>\n",
       "      <th>2019-01-01 00:03:59</th>\n",
       "      <th>2019-01-01 00:05:00</th>\n",
       "      <th>2019-01-01 00:05:59</th>\n",
       "      <th>2019-01-01 00:06:59</th>\n",
       "      <th>2019-01-01 00:08:00</th>\n",
       "      <th>2019-01-01 00:08:59</th>\n",
       "      <th>...</th>\n",
       "      <th>2019-12-30 23:49:59</th>\n",
       "      <th>2019-12-30 23:51:00</th>\n",
       "      <th>2019-12-30 23:51:59</th>\n",
       "      <th>2019-12-30 23:53:00</th>\n",
       "      <th>2019-12-30 23:54:00</th>\n",
       "      <th>2019-12-30 23:54:59</th>\n",
       "      <th>2019-12-30 23:56:00</th>\n",
       "      <th>2019-12-30 23:57:00</th>\n",
       "      <th>2019-12-30 23:57:59</th>\n",
       "      <th>2019-12-30 23:59:00</th>\n",
       "    </tr>\n",
       "  </thead>\n",
       "  <tbody>\n",
       "    <tr>\n",
       "      <th>SLEV</th>\n",
       "      <td>0.129</td>\n",
       "      <td>0.129</td>\n",
       "      <td>0.129</td>\n",
       "      <td>0.129</td>\n",
       "      <td>0.129</td>\n",
       "      <td>0.129</td>\n",
       "      <td>0.129</td>\n",
       "      <td>0.129</td>\n",
       "      <td>0.129</td>\n",
       "      <td>0.129</td>\n",
       "      <td>...</td>\n",
       "      <td>0.139</td>\n",
       "      <td>0.129</td>\n",
       "      <td>0.119</td>\n",
       "      <td>0.139</td>\n",
       "      <td>0.149</td>\n",
       "      <td>0.139</td>\n",
       "      <td>0.139</td>\n",
       "      <td>0.139</td>\n",
       "      <td>0.149</td>\n",
       "      <td>0.139</td>\n",
       "    </tr>\n",
       "  </tbody>\n",
       "</table>\n",
       "<p>1 rows × 524160 columns</p>\n",
       "</div>"
      ],
      "text/plain": [
       "TIME  2019-01-01 00:00:00  2019-01-01 00:00:59  2019-01-01 00:02:00  \\\n",
       "SLEV                0.129                0.129                0.129   \n",
       "\n",
       "TIME  2019-01-01 00:02:59  2019-01-01 00:03:59  2019-01-01 00:05:00  \\\n",
       "SLEV                0.129                0.129                0.129   \n",
       "\n",
       "TIME  2019-01-01 00:05:59  2019-01-01 00:06:59  2019-01-01 00:08:00  \\\n",
       "SLEV                0.129                0.129                0.129   \n",
       "\n",
       "TIME  2019-01-01 00:08:59  ...  2019-12-30 23:49:59  2019-12-30 23:51:00  \\\n",
       "SLEV                0.129  ...                0.139                0.129   \n",
       "\n",
       "TIME  2019-12-30 23:51:59  2019-12-30 23:53:00  2019-12-30 23:54:00  \\\n",
       "SLEV                0.119                0.139                0.149   \n",
       "\n",
       "TIME  2019-12-30 23:54:59  2019-12-30 23:56:00  2019-12-30 23:57:00  \\\n",
       "SLEV                0.139                0.139                0.139   \n",
       "\n",
       "TIME  2019-12-30 23:57:59  2019-12-30 23:59:00  \n",
       "SLEV                0.149                0.139  \n",
       "\n",
       "[1 rows x 524160 columns]"
      ]
     },
     "execution_count": 18,
     "metadata": {},
     "output_type": "execute_result"
    }
   ],
   "source": [
    "df_with_readable_time = dataframe.set_index(dataframe.index.astype(str).str[:19])\n",
    "df_with_readable_time.transpose()"
   ]
  },
  {
   "cell_type": "markdown",
   "metadata": {},
   "source": [
    "3) Exporting dataframe to csv: `run the next cells`!"
   ]
  },
  {
   "cell_type": "code",
   "execution_count": 19,
   "metadata": {},
   "outputs": [],
   "source": [
    "out_put_dir = os.getcwd() #by default: current working directory. Set a different path if you want"
   ]
  },
  {
   "cell_type": "code",
   "execution_count": 20,
   "metadata": {},
   "outputs": [
    {
     "data": {
      "text/plain": [
       "'Varna_time_serie.csv'"
      ]
     },
     "execution_count": 20,
     "metadata": {},
     "output_type": "execute_result"
    }
   ],
   "source": [
    "file_name = ds.attrs['platform_code']+'_time_serie.csv'\n",
    "file_name"
   ]
  },
  {
   "cell_type": "code",
   "execution_count": 21,
   "metadata": {},
   "outputs": [],
   "source": [
    "df_with_readable_time.to_csv(os.path.join(out_put_dir, file_name))"
   ]
  },
  {
   "cell_type": "markdown",
   "metadata": {},
   "source": [
    "<div class=\"alert alert-block alert-info\" style=\"margin-left: 2em\">\n",
    "<b>TIP</b>\n",
    "    \n",
    "***  \n",
    "Check your output directory for the file exported and inspect the content!.\n",
    "</div>"
   ]
  },
  {
   "cell_type": "markdown",
   "metadata": {},
   "source": [
    "---\n",
    "\n"
   ]
  },
  {
   "cell_type": "markdown",
   "metadata": {},
   "source": [
    "## 4. Wrap-up"
   ]
  },
  {
   "cell_type": "markdown",
   "metadata": {},
   "source": [
    "So far you should already know how to deal with Time Serie data from fixed platforms (tide gauges, moorings, river flows...).<br> `If you don't please ask us! it is the moment!`"
   ]
  }
 ],
 "metadata": {
  "finalized": {
   "timestamp": 1572908337060,
   "trusted": true
  },
  "hide_input": false,
  "kernelspec": {
   "display_name": "Python 3",
   "language": "python",
   "name": "python3"
  },
  "language_info": {
   "codemirror_mode": {
    "name": "ipython",
    "version": 3
   },
   "file_extension": ".py",
   "mimetype": "text/x-python",
   "name": "python",
   "nbconvert_exporter": "python",
   "pygments_lexer": "ipython3",
   "version": "3.8.5"
  },
  "toc": {
   "base_numbering": 1,
   "nav_menu": {},
   "number_sections": true,
   "sideBar": true,
   "skip_h1_title": true,
   "title_cell": "Table of Contents",
   "title_sidebar": "Contents",
   "toc_cell": true,
   "toc_position": {},
   "toc_section_display": true,
   "toc_window_display": false
  },
  "varInspector": {
   "cols": {
    "lenName": 16,
    "lenType": 16,
    "lenVar": 40
   },
   "kernels_config": {
    "python": {
     "delete_cmd_postfix": "",
     "delete_cmd_prefix": "del ",
     "library": "var_list.py",
     "varRefreshCmd": "print(var_dic_list())"
    },
    "r": {
     "delete_cmd_postfix": ") ",
     "delete_cmd_prefix": "rm(",
     "library": "var_list.r",
     "varRefreshCmd": "cat(var_dic_list()) "
    }
   },
   "types_to_exclude": [
    "module",
    "function",
    "builtin_function_or_method",
    "instance",
    "_Feature"
   ],
   "window_display": false
  }
 },
 "nbformat": 4,
 "nbformat_minor": 4
}
